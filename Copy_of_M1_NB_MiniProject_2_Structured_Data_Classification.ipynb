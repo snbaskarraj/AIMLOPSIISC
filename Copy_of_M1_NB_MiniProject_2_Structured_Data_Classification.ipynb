{
  "cells": [
    {
      "cell_type": "markdown",
      "metadata": {
        "id": "view-in-github",
        "colab_type": "text"
      },
      "source": [
        "<a href=\"https://colab.research.google.com/github/snbaskarraj/Bigdata/blob/master/Copy_of_M1_NB_MiniProject_2_Structured_Data_Classification.ipynb\" target=\"_parent\"><img src=\"https://colab.research.google.com/assets/colab-badge.svg\" alt=\"Open In Colab\"/></a>"
      ]
    },
    {
      "cell_type": "markdown",
      "metadata": {
        "id": "hTplQkOMsKhd"
      },
      "source": [
        "# Advanced Certification Programme in AI and MLOps\n",
        "## A programme by IISc and TalentSprint\n",
        "### Mini-Project Notebook: Structured Data Classification"
      ]
    },
    {
      "cell_type": "markdown",
      "metadata": {
        "id": "SZlu0P9jj_ei"
      },
      "source": [
        "## Problem Statement"
      ]
    },
    {
      "cell_type": "markdown",
      "metadata": {
        "id": "3xaJosu2kfGE"
      },
      "source": [
        "To predict whether a patient has a heart disease."
      ]
    },
    {
      "cell_type": "markdown",
      "metadata": {
        "id": "8N0iS4ipU_XM"
      },
      "source": [
        "## Learning Objectives"
      ]
    },
    {
      "cell_type": "markdown",
      "metadata": {
        "id": "K8OXq65pVDDS"
      },
      "source": [
        "At the end of the experiment, you will be able to\n",
        "\n",
        "* Understand the Cleveland Clinic Foundation Heart Disease dataset\n",
        "* Pre-process this dataset using Keras layers: IntegerLookup, StringLookup & Normalization\n",
        "* Understand and use Keras concatenate layer\n",
        "* Build a neural network model and architecture using Keras functional api\n",
        "* Predict an unseen data"
      ]
    },
    {
      "cell_type": "markdown",
      "source": [
        "## Introduction\n",
        "\n",
        "This example demonstrates how to do structured data classification, starting from a raw\n",
        "CSV file. Our data includes both numerical and categorical features. We will use Keras\n",
        "preprocessing layers to normalize the numerical features and vectorize the categorical\n",
        "ones.\n",
        "\n",
        "Note that this example should be run with TensorFlow 2.5 or higher."
      ],
      "metadata": {
        "id": "5zBPlw87J9cF"
      }
    },
    {
      "cell_type": "markdown",
      "metadata": {
        "id": "bScMHnbIaxsQ"
      },
      "source": [
        "## Dataset\n",
        "\n",
        "[Our dataset](https://archive.ics.uci.edu/ml/datasets/heart+Disease) is provided by the\n",
        "Cleveland Clinic Foundation for Heart Disease.\n",
        "It's a CSV file with 303 rows. Each row contains information about a patient (a\n",
        "**sample**), and each column describes an attribute of the patient (a **feature**). We\n",
        "use the features to predict whether a patient has a heart disease (**binary\n",
        "classification**).\n",
        "\n",
        "Here's the description of each feature:\n",
        "<br><br>\n",
        "\n",
        "Column| Description| Feature Type\n",
        "------------|--------------------|----------------------\n",
        "Age | Age in years | Numerical\n",
        "Sex | (1 = male; 0 = female) | Categorical\n",
        "CP | Chest pain type (0, 1, 2, 3, 4) | Categorical\n",
        "Trestbpd | Resting blood pressure (in mm Hg on admission) | Numerical\n",
        "Chol | Serum cholesterol in mg/dl | Numerical\n",
        "FBS | fasting blood sugar in 120 mg/dl (1 = true; 0 = false) | Categorical\n",
        "RestECG | Resting electrocardiogram results (0, 1, 2) | Categorical\n",
        "Thalach | Maximum heart rate achieved | Numerical\n",
        "Exang | Exercise induced angina (1 = yes; 0 = no) | Categorical\n",
        "Oldpeak | ST depression induced by exercise relative to rest | Numerical\n",
        "Slope | Slope of the peak exercise ST segment | Numerical\n",
        "CA | Number of major vessels (0-3) colored by fluoroscopy | Both numerical & categorical\n",
        "Thal | 3 = normal; 6 = fixed defect; 7 = reversible defect | Categorical\n",
        "Target | Diagnosis of heart disease (1 = true; 0 = false) | Target\n",
        "\n",
        "<br><br>"
      ]
    },
    {
      "cell_type": "code",
      "execution_count": null,
      "metadata": {
        "cellView": "form",
        "id": "812a816f",
        "colab": {
          "base_uri": "https://localhost:8080/"
        },
        "outputId": "765e16ce-234a-4beb-a349-1216225c2af8"
      },
      "outputs": [
        {
          "output_type": "stream",
          "name": "stdout",
          "text": [
            "Data Downloaded Successfuly!!\n"
          ]
        }
      ],
      "source": [
        "#@title Download the data\n",
        "!wget -qq https://cdn.iisc.talentsprint.com/AIandMLOps/Datasets/heart.csv\n",
        "print(\"Data Downloaded Successfuly!!\")"
      ]
    },
    {
      "cell_type": "markdown",
      "metadata": {
        "id": "operating-latter"
      },
      "source": [
        "## Grading = 10 Points"
      ]
    },
    {
      "cell_type": "markdown",
      "metadata": {
        "id": "1TmXyc2bRFvM"
      },
      "source": [
        "### Import Required Packages"
      ]
    },
    {
      "cell_type": "code",
      "execution_count": null,
      "metadata": {
        "id": "MK4EbY6xaxsR"
      },
      "outputs": [],
      "source": [
        "import tensorflow as tf\n",
        "import numpy as np\n",
        "import pandas as pd\n",
        "from tensorflow import keras\n",
        "from tensorflow.keras import layers\n",
        "from tensorflow.keras.layers import IntegerLookup     # Used in Feature processing\n",
        "from tensorflow.keras.layers import Normalization     # Used in Feature processing\n",
        "from tensorflow.keras.layers import StringLookup      # Used in Feature processing\n",
        "from tensorflow.keras.utils import plot_model\n",
        "from sklearn.metrics import f1_score, confusion_matrix"
      ]
    },
    {
      "cell_type": "markdown",
      "source": [
        "# Part A"
      ],
      "metadata": {
        "id": "-tBU6ZMlW0My"
      }
    },
    {
      "cell_type": "markdown",
      "metadata": {
        "id": "zWmEGCqDaxsS"
      },
      "source": [
        "## Load the data and create batches [2 Marks]"
      ]
    },
    {
      "cell_type": "markdown",
      "source": [
        "### Load data into a Pandas dataframe\n",
        "\n",
        "Hint:: pd.read_csv"
      ],
      "metadata": {
        "id": "V7IEMgJ8jnGr"
      }
    },
    {
      "cell_type": "code",
      "execution_count": null,
      "metadata": {
        "id": "6N7lrEsZaxsT"
      },
      "outputs": [],
      "source": [
        "file_url = \"/content/heart.csv\"\n",
        "## YOUR CODE HERE\n",
        "data = pd.read_csv(\"/content/heart.csv\")"
      ]
    },
    {
      "cell_type": "markdown",
      "metadata": {
        "id": "M-f50aCJaxsT"
      },
      "source": [
        "Check the shape of the dataset:"
      ]
    },
    {
      "cell_type": "code",
      "execution_count": null,
      "metadata": {
        "id": "nrNUOPFVaxsT",
        "colab": {
          "base_uri": "https://localhost:8080/"
        },
        "outputId": "92aad988-13dc-429a-cb10-6e4786d8a160"
      },
      "outputs": [
        {
          "output_type": "stream",
          "name": "stdout",
          "text": [
            "The data is of shape (303, 14)\n"
          ]
        }
      ],
      "source": [
        "## YOUR CODE HERE\n",
        "print('The data is of shape', data.shape)"
      ]
    },
    {
      "cell_type": "markdown",
      "metadata": {
        "id": "ptTMb_dsaxsU"
      },
      "source": [
        "Check the preview of a few samples:\n",
        "\n",
        "Hint:: head()"
      ]
    },
    {
      "cell_type": "code",
      "execution_count": null,
      "metadata": {
        "id": "zHjlz0HhaxsU",
        "colab": {
          "base_uri": "https://localhost:8080/",
          "height": 206
        },
        "outputId": "fbed4421-87c6-4e88-eafb-548a483fb159"
      },
      "outputs": [
        {
          "output_type": "execute_result",
          "data": {
            "text/plain": [
              "   age  sex  cp  trestbps  chol  fbs  restecg  thalach  exang  oldpeak  slope  \\\n",
              "0   63    1   1       145   233    1        2      150      0      2.3      3   \n",
              "1   67    1   4       160   286    0        2      108      1      1.5      2   \n",
              "2   67    1   4       120   229    0        2      129      1      2.6      2   \n",
              "3   37    1   3       130   250    0        0      187      0      3.5      3   \n",
              "4   41    0   2       130   204    0        2      172      0      1.4      1   \n",
              "\n",
              "   ca        thal  target  \n",
              "0   0       fixed       0  \n",
              "1   3      normal       1  \n",
              "2   2  reversible       0  \n",
              "3   0      normal       0  \n",
              "4   0      normal       0  "
            ],
            "text/html": [
              "\n",
              "  <div id=\"df-a1cf1eb2-10ad-4f66-9c77-50448c5e6990\" class=\"colab-df-container\">\n",
              "    <div>\n",
              "<style scoped>\n",
              "    .dataframe tbody tr th:only-of-type {\n",
              "        vertical-align: middle;\n",
              "    }\n",
              "\n",
              "    .dataframe tbody tr th {\n",
              "        vertical-align: top;\n",
              "    }\n",
              "\n",
              "    .dataframe thead th {\n",
              "        text-align: right;\n",
              "    }\n",
              "</style>\n",
              "<table border=\"1\" class=\"dataframe\">\n",
              "  <thead>\n",
              "    <tr style=\"text-align: right;\">\n",
              "      <th></th>\n",
              "      <th>age</th>\n",
              "      <th>sex</th>\n",
              "      <th>cp</th>\n",
              "      <th>trestbps</th>\n",
              "      <th>chol</th>\n",
              "      <th>fbs</th>\n",
              "      <th>restecg</th>\n",
              "      <th>thalach</th>\n",
              "      <th>exang</th>\n",
              "      <th>oldpeak</th>\n",
              "      <th>slope</th>\n",
              "      <th>ca</th>\n",
              "      <th>thal</th>\n",
              "      <th>target</th>\n",
              "    </tr>\n",
              "  </thead>\n",
              "  <tbody>\n",
              "    <tr>\n",
              "      <th>0</th>\n",
              "      <td>63</td>\n",
              "      <td>1</td>\n",
              "      <td>1</td>\n",
              "      <td>145</td>\n",
              "      <td>233</td>\n",
              "      <td>1</td>\n",
              "      <td>2</td>\n",
              "      <td>150</td>\n",
              "      <td>0</td>\n",
              "      <td>2.3</td>\n",
              "      <td>3</td>\n",
              "      <td>0</td>\n",
              "      <td>fixed</td>\n",
              "      <td>0</td>\n",
              "    </tr>\n",
              "    <tr>\n",
              "      <th>1</th>\n",
              "      <td>67</td>\n",
              "      <td>1</td>\n",
              "      <td>4</td>\n",
              "      <td>160</td>\n",
              "      <td>286</td>\n",
              "      <td>0</td>\n",
              "      <td>2</td>\n",
              "      <td>108</td>\n",
              "      <td>1</td>\n",
              "      <td>1.5</td>\n",
              "      <td>2</td>\n",
              "      <td>3</td>\n",
              "      <td>normal</td>\n",
              "      <td>1</td>\n",
              "    </tr>\n",
              "    <tr>\n",
              "      <th>2</th>\n",
              "      <td>67</td>\n",
              "      <td>1</td>\n",
              "      <td>4</td>\n",
              "      <td>120</td>\n",
              "      <td>229</td>\n",
              "      <td>0</td>\n",
              "      <td>2</td>\n",
              "      <td>129</td>\n",
              "      <td>1</td>\n",
              "      <td>2.6</td>\n",
              "      <td>2</td>\n",
              "      <td>2</td>\n",
              "      <td>reversible</td>\n",
              "      <td>0</td>\n",
              "    </tr>\n",
              "    <tr>\n",
              "      <th>3</th>\n",
              "      <td>37</td>\n",
              "      <td>1</td>\n",
              "      <td>3</td>\n",
              "      <td>130</td>\n",
              "      <td>250</td>\n",
              "      <td>0</td>\n",
              "      <td>0</td>\n",
              "      <td>187</td>\n",
              "      <td>0</td>\n",
              "      <td>3.5</td>\n",
              "      <td>3</td>\n",
              "      <td>0</td>\n",
              "      <td>normal</td>\n",
              "      <td>0</td>\n",
              "    </tr>\n",
              "    <tr>\n",
              "      <th>4</th>\n",
              "      <td>41</td>\n",
              "      <td>0</td>\n",
              "      <td>2</td>\n",
              "      <td>130</td>\n",
              "      <td>204</td>\n",
              "      <td>0</td>\n",
              "      <td>2</td>\n",
              "      <td>172</td>\n",
              "      <td>0</td>\n",
              "      <td>1.4</td>\n",
              "      <td>1</td>\n",
              "      <td>0</td>\n",
              "      <td>normal</td>\n",
              "      <td>0</td>\n",
              "    </tr>\n",
              "  </tbody>\n",
              "</table>\n",
              "</div>\n",
              "    <div class=\"colab-df-buttons\">\n",
              "\n",
              "  <div class=\"colab-df-container\">\n",
              "    <button class=\"colab-df-convert\" onclick=\"convertToInteractive('df-a1cf1eb2-10ad-4f66-9c77-50448c5e6990')\"\n",
              "            title=\"Convert this dataframe to an interactive table.\"\n",
              "            style=\"display:none;\">\n",
              "\n",
              "  <svg xmlns=\"http://www.w3.org/2000/svg\" height=\"24px\" viewBox=\"0 -960 960 960\">\n",
              "    <path d=\"M120-120v-720h720v720H120Zm60-500h600v-160H180v160Zm220 220h160v-160H400v160Zm0 220h160v-160H400v160ZM180-400h160v-160H180v160Zm440 0h160v-160H620v160ZM180-180h160v-160H180v160Zm440 0h160v-160H620v160Z\"/>\n",
              "  </svg>\n",
              "    </button>\n",
              "\n",
              "  <style>\n",
              "    .colab-df-container {\n",
              "      display:flex;\n",
              "      gap: 12px;\n",
              "    }\n",
              "\n",
              "    .colab-df-convert {\n",
              "      background-color: #E8F0FE;\n",
              "      border: none;\n",
              "      border-radius: 50%;\n",
              "      cursor: pointer;\n",
              "      display: none;\n",
              "      fill: #1967D2;\n",
              "      height: 32px;\n",
              "      padding: 0 0 0 0;\n",
              "      width: 32px;\n",
              "    }\n",
              "\n",
              "    .colab-df-convert:hover {\n",
              "      background-color: #E2EBFA;\n",
              "      box-shadow: 0px 1px 2px rgba(60, 64, 67, 0.3), 0px 1px 3px 1px rgba(60, 64, 67, 0.15);\n",
              "      fill: #174EA6;\n",
              "    }\n",
              "\n",
              "    .colab-df-buttons div {\n",
              "      margin-bottom: 4px;\n",
              "    }\n",
              "\n",
              "    [theme=dark] .colab-df-convert {\n",
              "      background-color: #3B4455;\n",
              "      fill: #D2E3FC;\n",
              "    }\n",
              "\n",
              "    [theme=dark] .colab-df-convert:hover {\n",
              "      background-color: #434B5C;\n",
              "      box-shadow: 0px 1px 3px 1px rgba(0, 0, 0, 0.15);\n",
              "      filter: drop-shadow(0px 1px 2px rgba(0, 0, 0, 0.3));\n",
              "      fill: #FFFFFF;\n",
              "    }\n",
              "  </style>\n",
              "\n",
              "    <script>\n",
              "      const buttonEl =\n",
              "        document.querySelector('#df-a1cf1eb2-10ad-4f66-9c77-50448c5e6990 button.colab-df-convert');\n",
              "      buttonEl.style.display =\n",
              "        google.colab.kernel.accessAllowed ? 'block' : 'none';\n",
              "\n",
              "      async function convertToInteractive(key) {\n",
              "        const element = document.querySelector('#df-a1cf1eb2-10ad-4f66-9c77-50448c5e6990');\n",
              "        const dataTable =\n",
              "          await google.colab.kernel.invokeFunction('convertToInteractive',\n",
              "                                                    [key], {});\n",
              "        if (!dataTable) return;\n",
              "\n",
              "        const docLinkHtml = 'Like what you see? Visit the ' +\n",
              "          '<a target=\"_blank\" href=https://colab.research.google.com/notebooks/data_table.ipynb>data table notebook</a>'\n",
              "          + ' to learn more about interactive tables.';\n",
              "        element.innerHTML = '';\n",
              "        dataTable['output_type'] = 'display_data';\n",
              "        await google.colab.output.renderOutput(dataTable, element);\n",
              "        const docLink = document.createElement('div');\n",
              "        docLink.innerHTML = docLinkHtml;\n",
              "        element.appendChild(docLink);\n",
              "      }\n",
              "    </script>\n",
              "  </div>\n",
              "\n",
              "\n",
              "<div id=\"df-b892b963-eaeb-4485-9d04-2d9e626da192\">\n",
              "  <button class=\"colab-df-quickchart\" onclick=\"quickchart('df-b892b963-eaeb-4485-9d04-2d9e626da192')\"\n",
              "            title=\"Suggest charts.\"\n",
              "            style=\"display:none;\">\n",
              "\n",
              "<svg xmlns=\"http://www.w3.org/2000/svg\" height=\"24px\"viewBox=\"0 0 24 24\"\n",
              "     width=\"24px\">\n",
              "    <g>\n",
              "        <path d=\"M19 3H5c-1.1 0-2 .9-2 2v14c0 1.1.9 2 2 2h14c1.1 0 2-.9 2-2V5c0-1.1-.9-2-2-2zM9 17H7v-7h2v7zm4 0h-2V7h2v10zm4 0h-2v-4h2v4z\"/>\n",
              "    </g>\n",
              "</svg>\n",
              "  </button>\n",
              "\n",
              "<style>\n",
              "  .colab-df-quickchart {\n",
              "      --bg-color: #E8F0FE;\n",
              "      --fill-color: #1967D2;\n",
              "      --hover-bg-color: #E2EBFA;\n",
              "      --hover-fill-color: #174EA6;\n",
              "      --disabled-fill-color: #AAA;\n",
              "      --disabled-bg-color: #DDD;\n",
              "  }\n",
              "\n",
              "  [theme=dark] .colab-df-quickchart {\n",
              "      --bg-color: #3B4455;\n",
              "      --fill-color: #D2E3FC;\n",
              "      --hover-bg-color: #434B5C;\n",
              "      --hover-fill-color: #FFFFFF;\n",
              "      --disabled-bg-color: #3B4455;\n",
              "      --disabled-fill-color: #666;\n",
              "  }\n",
              "\n",
              "  .colab-df-quickchart {\n",
              "    background-color: var(--bg-color);\n",
              "    border: none;\n",
              "    border-radius: 50%;\n",
              "    cursor: pointer;\n",
              "    display: none;\n",
              "    fill: var(--fill-color);\n",
              "    height: 32px;\n",
              "    padding: 0;\n",
              "    width: 32px;\n",
              "  }\n",
              "\n",
              "  .colab-df-quickchart:hover {\n",
              "    background-color: var(--hover-bg-color);\n",
              "    box-shadow: 0 1px 2px rgba(60, 64, 67, 0.3), 0 1px 3px 1px rgba(60, 64, 67, 0.15);\n",
              "    fill: var(--button-hover-fill-color);\n",
              "  }\n",
              "\n",
              "  .colab-df-quickchart-complete:disabled,\n",
              "  .colab-df-quickchart-complete:disabled:hover {\n",
              "    background-color: var(--disabled-bg-color);\n",
              "    fill: var(--disabled-fill-color);\n",
              "    box-shadow: none;\n",
              "  }\n",
              "\n",
              "  .colab-df-spinner {\n",
              "    border: 2px solid var(--fill-color);\n",
              "    border-color: transparent;\n",
              "    border-bottom-color: var(--fill-color);\n",
              "    animation:\n",
              "      spin 1s steps(1) infinite;\n",
              "  }\n",
              "\n",
              "  @keyframes spin {\n",
              "    0% {\n",
              "      border-color: transparent;\n",
              "      border-bottom-color: var(--fill-color);\n",
              "      border-left-color: var(--fill-color);\n",
              "    }\n",
              "    20% {\n",
              "      border-color: transparent;\n",
              "      border-left-color: var(--fill-color);\n",
              "      border-top-color: var(--fill-color);\n",
              "    }\n",
              "    30% {\n",
              "      border-color: transparent;\n",
              "      border-left-color: var(--fill-color);\n",
              "      border-top-color: var(--fill-color);\n",
              "      border-right-color: var(--fill-color);\n",
              "    }\n",
              "    40% {\n",
              "      border-color: transparent;\n",
              "      border-right-color: var(--fill-color);\n",
              "      border-top-color: var(--fill-color);\n",
              "    }\n",
              "    60% {\n",
              "      border-color: transparent;\n",
              "      border-right-color: var(--fill-color);\n",
              "    }\n",
              "    80% {\n",
              "      border-color: transparent;\n",
              "      border-right-color: var(--fill-color);\n",
              "      border-bottom-color: var(--fill-color);\n",
              "    }\n",
              "    90% {\n",
              "      border-color: transparent;\n",
              "      border-bottom-color: var(--fill-color);\n",
              "    }\n",
              "  }\n",
              "</style>\n",
              "\n",
              "  <script>\n",
              "    async function quickchart(key) {\n",
              "      const quickchartButtonEl =\n",
              "        document.querySelector('#' + key + ' button');\n",
              "      quickchartButtonEl.disabled = true;  // To prevent multiple clicks.\n",
              "      quickchartButtonEl.classList.add('colab-df-spinner');\n",
              "      try {\n",
              "        const charts = await google.colab.kernel.invokeFunction(\n",
              "            'suggestCharts', [key], {});\n",
              "      } catch (error) {\n",
              "        console.error('Error during call to suggestCharts:', error);\n",
              "      }\n",
              "      quickchartButtonEl.classList.remove('colab-df-spinner');\n",
              "      quickchartButtonEl.classList.add('colab-df-quickchart-complete');\n",
              "    }\n",
              "    (() => {\n",
              "      let quickchartButtonEl =\n",
              "        document.querySelector('#df-b892b963-eaeb-4485-9d04-2d9e626da192 button');\n",
              "      quickchartButtonEl.style.display =\n",
              "        google.colab.kernel.accessAllowed ? 'block' : 'none';\n",
              "    })();\n",
              "  </script>\n",
              "</div>\n",
              "    </div>\n",
              "  </div>\n"
            ]
          },
          "metadata": {},
          "execution_count": 34
        }
      ],
      "source": [
        "## YOUR CODE HERE\n",
        "data.head()"
      ]
    },
    {
      "cell_type": "code",
      "source": [
        "data = data[['sex', 'cp', 'fbs', 'restecg', 'exang', 'ca', 'thal', 'age', 'trestbps', 'chol', 'thalach', 'oldpeak', 'slope', 'target']]"
      ],
      "metadata": {
        "id": "WayE50XgyPFu"
      },
      "execution_count": null,
      "outputs": []
    },
    {
      "cell_type": "markdown",
      "metadata": {
        "id": "Glx6sm_daxsU"
      },
      "source": [
        "Draw some inference from the data. What does the target column indicate?\n",
        "\n",
        "The last column, \"target\", indicates whether the patient has a heart disease (1) or not\n",
        "(0)."
      ]
    },
    {
      "cell_type": "markdown",
      "source": [
        "### Split the data into a training and validation set\n",
        "\n",
        "Hint:: Use .sample() method from Pandas.\n",
        "\n",
        "Refer to link [here](https://pandas.pydata.org/docs/reference/api/pandas.DataFrame.sample.html)\n",
        "\n",
        "Official reference from pandas for drop method [here](https://pandas.pydata.org/docs/reference/api/pandas.DataFrame.drop.html)"
      ],
      "metadata": {
        "id": "sUsajA0isrL9"
      }
    },
    {
      "cell_type": "code",
      "execution_count": null,
      "metadata": {
        "id": "TyXJ6K9maxsV",
        "colab": {
          "base_uri": "https://localhost:8080/"
        },
        "outputId": "69d3bf84-d76f-45b4-869a-3d92291046e2"
      },
      "outputs": [
        {
          "output_type": "stream",
          "name": "stdout",
          "text": [
            "Using 219 samples for training and 45 for validation\n"
          ]
        }
      ],
      "source": [
        "## YOUR CODE HERE\n",
        "## YOUR CODE HERE\n",
        "\n",
        "val_dataframe = data.sample(frac=0.15, random_state=42)\n",
        "train_dataframe = data[~data.index.isin(val_dataframe.index)]\n",
        "\n",
        "test_dataframe = train_dataframe.sample(frac=0.15, random_state=42)\n",
        "train_dataframe = train_dataframe[~train_dataframe.index.isin(test_dataframe.index)]\n",
        "\n",
        "print(\n",
        "    \"Using %d samples for training and %d for validation\"\n",
        "    % (len(train_dataframe), len(val_dataframe))\n",
        ")"
      ]
    },
    {
      "cell_type": "markdown",
      "source": [
        "### Converting into tensorflow dataset & creating batches"
      ],
      "metadata": {
        "id": "0GzvSLUsr56A"
      }
    },
    {
      "cell_type": "markdown",
      "metadata": {
        "id": "yylt5oWvaxsV"
      },
      "source": [
        "Generate `tf.data.Dataset` objects for each dataframe:\n",
        "\n",
        "Each `Dataset` yields a tuple `(input, target)` where `input` is a dictionary of features\n",
        "and `target` is the value `0` or `1`:\n",
        "\n",
        "Refer [here](https://www.tensorflow.org/api_docs/python/tf/data/Dataset#from_tensor_slices) to create the tuple using tensorflow."
      ]
    },
    {
      "cell_type": "code",
      "execution_count": null,
      "metadata": {
        "id": "ZLwPzHf-axsV",
        "colab": {
          "base_uri": "https://localhost:8080/"
        },
        "outputId": "cec9a7a6-703f-4f54-ebe9-b314277c9f6b"
      },
      "outputs": [
        {
          "output_type": "stream",
          "name": "stderr",
          "text": [
            "<ipython-input-37-32875d79162d>:5: FutureWarning: Support for multi-dimensional indexing (e.g. `obj[:, None]`) is deprecated and will be removed in a future version.  Convert to a numpy array before indexing instead.\n",
            "  df = {key: value[:,tf.newaxis] for key, value in d.items()}\n",
            "<ipython-input-37-32875d79162d>:5: FutureWarning: Support for multi-dimensional indexing (e.g. `obj[:, None]`) is deprecated and will be removed in a future version.  Convert to a numpy array before indexing instead.\n",
            "  df = {key: value[:,tf.newaxis] for key, value in d.items()}\n"
          ]
        }
      ],
      "source": [
        "def dataframe_to_dataset(dataframe):\n",
        "    ## YOUR CODE HERE\n",
        "    d = dataframe.copy()\n",
        "    labels = d.pop('target')\n",
        "    df = {key: value[:,tf.newaxis] for key, value in d.items()}\n",
        "    ds = tf.data.Dataset.from_tensor_slices((dict(df), labels))\n",
        "\n",
        "    return ds\n",
        "\n",
        "train_ds = dataframe_to_dataset(train_dataframe)\n",
        "val_ds = dataframe_to_dataset(val_dataframe)"
      ]
    },
    {
      "cell_type": "code",
      "execution_count": null,
      "metadata": {
        "id": "oeCYFOjLaxsW",
        "colab": {
          "base_uri": "https://localhost:8080/"
        },
        "outputId": "27b90907-f461-48a3-ec90-79d6545717b3"
      },
      "outputs": [
        {
          "output_type": "stream",
          "name": "stdout",
          "text": [
            "({'sex': <tf.Tensor: shape=(1,), dtype=int64, numpy=array([1])>, 'cp': <tf.Tensor: shape=(1,), dtype=int64, numpy=array([1])>, 'fbs': <tf.Tensor: shape=(1,), dtype=int64, numpy=array([1])>, 'restecg': <tf.Tensor: shape=(1,), dtype=int64, numpy=array([2])>, 'exang': <tf.Tensor: shape=(1,), dtype=int64, numpy=array([0])>, 'ca': <tf.Tensor: shape=(1,), dtype=int64, numpy=array([0])>, 'thal': <tf.Tensor: shape=(1,), dtype=string, numpy=array([b'fixed'], dtype=object)>, 'age': <tf.Tensor: shape=(1,), dtype=int64, numpy=array([63])>, 'trestbps': <tf.Tensor: shape=(1,), dtype=int64, numpy=array([145])>, 'chol': <tf.Tensor: shape=(1,), dtype=int64, numpy=array([233])>, 'thalach': <tf.Tensor: shape=(1,), dtype=int64, numpy=array([150])>, 'oldpeak': <tf.Tensor: shape=(1,), dtype=float64, numpy=array([2.3])>, 'slope': <tf.Tensor: shape=(1,), dtype=int64, numpy=array([3])>}, <tf.Tensor: shape=(), dtype=int64, numpy=0>)\n"
          ]
        }
      ],
      "source": [
        "# Visualizing one datapoint from the formatted data\n",
        "## YOUR CODE HERE\n",
        "for b in train_ds.take(1):\n",
        "  print(b)"
      ]
    },
    {
      "cell_type": "markdown",
      "metadata": {
        "id": "_JNHU2qQaxsW"
      },
      "source": [
        "#### Create the batch of the datasets:"
      ]
    },
    {
      "cell_type": "markdown",
      "source": [
        "Refer [here](https://www.tensorflow.org/api_docs/python/tf/data/Dataset#batch) to create a batch using tensorflow."
      ],
      "metadata": {
        "id": "06SkbqOG4egU"
      }
    },
    {
      "cell_type": "code",
      "execution_count": null,
      "metadata": {
        "id": "Rb11lwxDaxsW"
      },
      "outputs": [],
      "source": [
        "## YOUR CODE HERE  ## For train\n",
        "train_ds = train_ds.batch(4).prefetch(4)\n",
        "## YOUR CODE HERE  ## For val\n",
        "val_ds = val_ds.batch(4).prefetch(4)"
      ]
    },
    {
      "cell_type": "markdown",
      "source": [
        "## Feature preprocessing with Keras layers [3 Marks]"
      ],
      "metadata": {
        "id": "DgY1sXyn43g3"
      }
    },
    {
      "cell_type": "markdown",
      "source": [
        "### Categorical Features Encoding"
      ],
      "metadata": {
        "id": "kDHb-mam8Aw-"
      }
    },
    {
      "cell_type": "markdown",
      "source": [
        "The following features are categorical features encoded as integers:\n",
        "\n",
        "- `sex`\n",
        "- `cp`\n",
        "- `fbs`\n",
        "- `restecg`\n",
        "- `exang`\n",
        "- `ca`"
      ],
      "metadata": {
        "id": "PYQu-1Gl46a1"
      }
    },
    {
      "cell_type": "markdown",
      "source": [
        "We will encode these features using **one-hot encoding**. We have two options\n",
        "here:\n",
        "\n",
        " - Use `CategoryEncoding()`, which requires knowing the range of input values\n",
        " and will throw an error on input outside the range.\n",
        " - Use `IntegerLookup()` which will build a lookup table for inputs and **reserve\n",
        " an output index for unkown input values**.\n",
        "\n",
        "For this example, we want a simple solution that will handle out of range inputs\n",
        "at inference, so we will use `IntegerLookup()`.\n",
        "\n",
        "We also have a categorical feature encoded as a string: `thal`. We will create an\n",
        "index of all possible features and encode output using the `StringLookup()` layer."
      ],
      "metadata": {
        "id": "FC9vOfeA796e"
      }
    },
    {
      "cell_type": "markdown",
      "source": [
        "Create a function `encode_categorical_feature`, this function takes four parameters.\n",
        "1. Feature to be encoded.\n",
        "2. Name of the feature in the dataset.\n",
        "3. Dataset containing the feature.\n",
        "4. A boolean value wether the feature is string or not."
      ],
      "metadata": {
        "id": "LBPnzKnA_F1g"
      }
    },
    {
      "cell_type": "markdown",
      "source": [
        "**Refer :** StringLookup [here](https://www.tensorflow.org/api_docs/python/tf/keras/layers/StringLookup) and IntegerLookup [here](https://www.tensorflow.org/api_docs/python/tf/keras/layers/IntegerLookup)."
      ],
      "metadata": {
        "id": "5c71RPyG-oMf"
      }
    },
    {
      "cell_type": "code",
      "source": [
        "def get_categorical_encoding_layer(name, dataset, is_string):\n",
        "  # Create a lookup layer which will turn strings into integer indices\n",
        "  ## YOUR CODE HERE\n",
        "  if is_string:\n",
        "    lookup_layer = layers.StringLookup()\n",
        "  else:\n",
        "    lookup_layer = layers.IntegerLookup()\n",
        "\n",
        "  # Prepare a Dataset that only yields our feature\n",
        "  ## YOUR CODE HERE\n",
        "  col = dataset.map(lambda x, y: x[name])\n",
        "\n",
        "  # Learn the set of possible string values and assign them a fixed integer index\n",
        "  ## YOUR CODE HERE\n",
        "  lookup_layer.adapt(col)\n",
        "\n",
        "  # Turn the string input into integer indices\n",
        "  ## YOUR CODE HERE\n",
        "  encoder = layers.CategoryEncoding(num_tokens=lookup_layer.vocabulary_size())\n",
        "\n",
        "  return lambda f: encoder(lookup_layer(f))"
      ],
      "metadata": {
        "id": "k13G1MYipFOm"
      },
      "execution_count": null,
      "outputs": []
    },
    {
      "cell_type": "code",
      "source": [
        "#def encode_categorical_feature(feature, name, dataset, is_string):\n",
        "\n",
        "    ## YOUR CODE HERE\n",
        "    # Create a lookup layer which will turn strings into integer indices\n",
        "    ## YOUR CODE HERE\n",
        "\n",
        "    # Prepare a Dataset that only yields our feature\n",
        "    ## YOUR CODE HERE\n",
        "\n",
        "    # Learn the set of possible string values and assign them a fixed integer index\n",
        "    ## YOUR CODE HERE\n",
        "\n",
        "    # Turn the string input into integer indices\n",
        "    ## YOUR CODE HERE\n",
        "\n",
        "    #return encoded_feature\n"
      ],
      "metadata": {
        "id": "drcy1lla5G9n"
      },
      "execution_count": null,
      "outputs": []
    },
    {
      "cell_type": "markdown",
      "metadata": {
        "id": "sTNTvYjfaxsW"
      },
      "source": [
        "### Numerical features Normalization\n",
        "The following feature are continuous numerical features:\n",
        "\n",
        "- `age`\n",
        "- `trestbps`\n",
        "- `chol`\n",
        "- `thalach`\n",
        "- `oldpeak`\n",
        "- `slope`\n",
        "\n",
        "For each of these features, we will use a `Normalization()` layer to make sure the mean\n",
        "of each feature is 0 and its standard deviation is 1.\n",
        "\n",
        "\n",
        "- Define a function `encode_numerical_feature` to apply featurewise normalization to numerical features.\n"
      ]
    },
    {
      "cell_type": "markdown",
      "source": [
        "Refer Normalization [here](https://www.tensorflow.org/api_docs/python/tf/keras/layers/Normalization)"
      ],
      "metadata": {
        "id": "SQ0TCXUOAXgE"
      }
    },
    {
      "cell_type": "code",
      "source": [
        "def get_numerical_encoding_layer(name, dataset):\n",
        "  # Create a Normalization layer for the feature.\n",
        "  normalizer = layers.Normalization(axis=None)\n",
        "\n",
        "  # Prepare a Dataset that only yields the feature.\n",
        "  feature_ds = dataset.map(lambda x, y: x[name])\n",
        "\n",
        "  # Learn the statistics of the data.\n",
        "  normalizer.adapt(feature_ds)\n",
        "\n",
        "  return normalizer"
      ],
      "metadata": {
        "id": "73RU3ZQMqZ2l"
      },
      "execution_count": null,
      "outputs": []
    },
    {
      "cell_type": "code",
      "execution_count": null,
      "metadata": {
        "id": "g1Zl8AYgaxsW"
      },
      "outputs": [],
      "source": [
        "#def encode_numerical_feature(name, dataset):\n",
        "    # Create a Normalization layer for our feature\n",
        "    ## YOUR CODE HERE\n",
        "\n",
        "    # Prepare a Dataset that only yields our feature\n",
        "    ## YOUR CODE HERE\n",
        "\n",
        "    # Learn the statistics of the data\n",
        "    ## YOUR CODE HERE\n",
        "\n",
        "    # Normalize the input feature\n",
        "    ## YOUR CODE HERE\n",
        "#    return encoded_feature"
      ]
    },
    {
      "cell_type": "markdown",
      "source": [
        "# Part B"
      ],
      "metadata": {
        "id": "xY9mCVZ8W604"
      }
    },
    {
      "cell_type": "markdown",
      "source": [],
      "metadata": {
        "id": "_yU-eI2CsBa6"
      }
    },
    {
      "cell_type": "markdown",
      "metadata": {
        "id": "zQlt1xCbaxsX"
      },
      "source": [
        "## Building the model [4 Marks]"
      ]
    },
    {
      "cell_type": "markdown",
      "source": [
        "#### Need to instantiate a Keras tensor for all features\n",
        " Use keras Input() [method](https://keras.io/api/layers/core_layers/input/).\n",
        "* Create a list of inputs to be fed to the model.\n",
        "* This list consists of the features output from keras Input() method.\n",
        "* These inputs include all the features.\n"
      ],
      "metadata": {
        "id": "zBhmQ_q5oLIq"
      }
    },
    {
      "cell_type": "code",
      "source": [
        "# Categorical features encoded as integers\n",
        "## YOUR CODE HERE\n",
        "categorical_columns = ['sex', 'cp', 'fbs', 'restecg', 'exang', 'ca', 'thal']\n",
        "numerical_columns = ['age', 'trestbps', 'chol', 'thalach', 'oldpeak', 'slope']\n",
        "\n",
        "# Categorical feature encoded as string\n",
        "## YOUR CODE HERE\n",
        "\n",
        "all_inputs = []\n",
        "encoded_features = []\n",
        "\n",
        "# Numerical features.\n",
        "for feature in categorical_columns:\n",
        "  if feature == 'thal':\n",
        "    is_string = True\n",
        "    col = tf.keras.Input(shape=(1,), name=feature, dtype =\"string\")\n",
        "  else:\n",
        "    is_string = False\n",
        "    col = tf.keras.Input(shape=(1,), name=feature)\n",
        "\n",
        "\n",
        "  encoding_layer = get_categorical_encoding_layer(feature, train_ds, is_string)\n",
        "  encoded_col = encoding_layer(col)\n",
        "  all_inputs.append(col)\n",
        "  encoded_features.append(encoded_col)\n",
        "\n",
        "# Numerical features\n",
        "## YOUR CODE HERE\n",
        "for feature in numerical_columns:\n",
        "\n",
        "  col = tf.keras.Input(shape=(1,), name=feature)\n",
        "  encoding_layer = get_numerical_encoding_layer(feature, train_ds)\n",
        "  encoded_col = encoding_layer(col)\n",
        "  all_inputs.append(col)\n",
        "  encoded_features.append(encoded_col)\n",
        "\n",
        "## These list of inputs objects are fed inside the model as inputs"
      ],
      "metadata": {
        "id": "7DWkHm9-ymp6"
      },
      "execution_count": null,
      "outputs": []
    },
    {
      "cell_type": "markdown",
      "source": [
        "### Encoding above features\n",
        "Use  \"encode_categorical_feature\" & \"encode_numerical_feature\" function on respective features that we defined above."
      ],
      "metadata": {
        "id": "L9QJ4k6tzKcl"
      }
    },
    {
      "cell_type": "code",
      "execution_count": null,
      "metadata": {
        "id": "q3ISoSGRaxsX",
        "colab": {
          "base_uri": "https://localhost:8080/",
          "height": 87
        },
        "outputId": "78fdfec2-3bee-41a6-d9ab-841b4ac0459e"
      },
      "outputs": [
        {
          "output_type": "execute_result",
          "data": {
            "text/plain": [
              "'\\n# Integer categorical features\\nsex_encoded = ## YOUR CODE HERE\\ncp_encoded = ## YOUR CODE HERE\\nfbs_encoded = ## YOUR CODE HERE\\nrestecg_encoded = ## YOUR CODE HERE\\nexang_encoded = ## YOUR CODE HERE\\nca_encoded = ## YOUR CODE HERE\\n\\n# String categorical features\\nthal_encoded = ## YOUR CODE HERE\\n\\n# Numerical features\\nage_encoded = ## YOUR CODE HERE\\ntrestbps_encoded = ## YOUR CODE HERE\\nchol_encoded = ## YOUR CODE HERE\\nthalach_encoded = ## YOUR CODE HERE\\noldpeak_encoded = ## YOUR CODE HERE\\nslope_encoded = ## YOUR CODE HERE\\n'"
            ],
            "application/vnd.google.colaboratory.intrinsic+json": {
              "type": "string"
            }
          },
          "metadata": {},
          "execution_count": 45
        }
      ],
      "source": [
        "'''\n",
        "# Integer categorical features\n",
        "sex_encoded = ## YOUR CODE HERE\n",
        "cp_encoded = ## YOUR CODE HERE\n",
        "fbs_encoded = ## YOUR CODE HERE\n",
        "restecg_encoded = ## YOUR CODE HERE\n",
        "exang_encoded = ## YOUR CODE HERE\n",
        "ca_encoded = ## YOUR CODE HERE\n",
        "\n",
        "# String categorical features\n",
        "thal_encoded = ## YOUR CODE HERE\n",
        "\n",
        "# Numerical features\n",
        "age_encoded = ## YOUR CODE HERE\n",
        "trestbps_encoded = ## YOUR CODE HERE\n",
        "chol_encoded = ## YOUR CODE HERE\n",
        "thalach_encoded = ## YOUR CODE HERE\n",
        "oldpeak_encoded = ## YOUR CODE HERE\n",
        "slope_encoded = ## YOUR CODE HERE\n",
        "'''"
      ]
    },
    {
      "cell_type": "markdown",
      "source": [
        "##### Understanding the result of  encoder functions"
      ],
      "metadata": {
        "id": "4GImpVSz8Mh-"
      }
    },
    {
      "cell_type": "code",
      "source": [
        "#sex_encoded = ## YOUR CODE HERE\n",
        "#sex_encoded\n",
        "\n",
        "list(zip(all_inputs, encoded_features))[:2]"
      ],
      "metadata": {
        "id": "7agE0k6X7TIo",
        "colab": {
          "base_uri": "https://localhost:8080/"
        },
        "outputId": "6e53c4f1-9c8f-4d34-bcc6-93bd33ba6379"
      },
      "execution_count": null,
      "outputs": [
        {
          "output_type": "execute_result",
          "data": {
            "text/plain": [
              "[(<KerasTensor: shape=(None, 1) dtype=float32 (created by layer 'sex')>,\n",
              "  <KerasTensor: shape=(None, 3) dtype=float32 (created by layer 'category_encoding_8')>),\n",
              " (<KerasTensor: shape=(None, 1) dtype=float32 (created by layer 'cp')>,\n",
              "  <KerasTensor: shape=(None, 6) dtype=float32 (created by layer 'category_encoding_9')>)]"
            ]
          },
          "metadata": {},
          "execution_count": 46
        }
      ]
    },
    {
      "cell_type": "code",
      "source": [
        "#cp_encoded = ## YOUR CODE HERE\n",
        "#cp_encoded"
      ],
      "metadata": {
        "id": "N-Lr3-9W7-EU"
      },
      "execution_count": null,
      "outputs": []
    },
    {
      "cell_type": "markdown",
      "source": [
        "### Using Functional API for building model\n",
        "Build the three model architectures with 1, 2, and 3 hidden layers having different numbers of neurons. Train for each architecture and compare the train and the validation accuracy.\n",
        "\n",
        "* These inputs will be passed to keras.model.\n",
        "* Concatenate the encoded features using layers.concatenate()\n",
        "* Add the Dense layers and compile the model."
      ],
      "metadata": {
        "id": "XgCGkr5Y1CqB"
      }
    },
    {
      "cell_type": "code",
      "source": [
        "all_features = layers.concatenate(encoded_features)\n",
        "\n",
        "## In Functional API for creating a Neural Network model.\n",
        "## Different layers are connected as layers.method(previous layer object)\n",
        "## For eg: x = layers.Dense(32, activation=\"relu\")(all_features), similarly\n",
        "## layers.concatenate is connected to Input or Initialization of keras tensors.\n",
        "## layers.concatenate([encoded_feature_object1, encoded_feature_object2, .....]), where\n",
        "## encoded_feature_objects contains the return values from encode_categorical and encode_numerical features.\n",
        "\n",
        "## YOUR CODE HERE     # Dense Layer\n",
        "l1 = tf.keras.layers.Dense(16, activation=\"relu\")(all_features)\n",
        "## YOUR CODE HERE     # Dropout\n",
        "l1_d = tf.keras.layers.Dropout(0.3)(l1)\n",
        "output = tf.keras.layers.Dense(1, activation='sigmoid')(l1_d)\n",
        "model = keras.Model(all_inputs, output)\n",
        "model.compile(optimizer='adam',\n",
        "              loss=tf.keras.losses.BinaryCrossentropy(from_logits=True),\n",
        "              metrics=[\"accuracy\"])"
      ],
      "metadata": {
        "id": "WEDvPj0o1GJR"
      },
      "execution_count": null,
      "outputs": []
    },
    {
      "cell_type": "markdown",
      "metadata": {
        "id": "6n8nNJl8axsX"
      },
      "source": [
        "### Visualize the connectivity graph using `keras.utils.plot_model`:"
      ]
    },
    {
      "cell_type": "code",
      "execution_count": null,
      "metadata": {
        "id": "HHIJkQVTaxsX",
        "colab": {
          "base_uri": "https://localhost:8080/",
          "height": 1000
        },
        "outputId": "f7843f84-9959-4e55-a0ad-20601a2aadcc"
      },
      "outputs": [
        {
          "output_type": "execute_result",
          "data": {
            "image/png": "[encoded data removed]",
            "text/plain": [
              "<IPython.core.display.Image object>"
            ]
          },
          "metadata": {},
          "execution_count": 49
        }
      ],
      "source": [
        "# `rankdir='LR'` is to make the graph horizontal.\n",
        "## YOUR CODE HERE\n",
        "\n",
        "plot_model(model, rankdir='LR')"
      ]
    },
    {
      "cell_type": "markdown",
      "metadata": {
        "id": "5vnGOiMuaxsX"
      },
      "source": [
        "### Train the model"
      ]
    },
    {
      "cell_type": "code",
      "execution_count": null,
      "metadata": {
        "id": "GflUtJDTaxsX",
        "colab": {
          "base_uri": "https://localhost:8080/"
        },
        "outputId": "3a12fb8b-b407-4f34-a0ab-05d554429264"
      },
      "outputs": [
        {
          "output_type": "stream",
          "name": "stdout",
          "text": [
            "Epoch 1/10\n"
          ]
        },
        {
          "output_type": "stream",
          "name": "stderr",
          "text": [
            "/usr/local/lib/python3.10/dist-packages/keras/src/backend.py:5820: UserWarning: \"`binary_crossentropy` received `from_logits=True`, but the `output` argument was produced by a Sigmoid activation and thus does not represent logits. Was this intended?\n",
            "  output, from_logits = _get_logits(\n"
          ]
        },
        {
          "output_type": "stream",
          "name": "stdout",
          "text": [
            "55/55 [==============================] - 2s 11ms/step - loss: 0.7579 - accuracy: 0.4384 - val_loss: 0.7076 - val_accuracy: 0.5556\n",
            "Epoch 2/10\n",
            "55/55 [==============================] - 0s 3ms/step - loss: 0.6575 - accuracy: 0.6530 - val_loss: 0.6236 - val_accuracy: 0.6889\n",
            "Epoch 3/10\n",
            "55/55 [==============================] - 0s 3ms/step - loss: 0.5806 - accuracy: 0.6986 - val_loss: 0.5573 - val_accuracy: 0.7111\n",
            "Epoch 4/10\n",
            "55/55 [==============================] - 0s 3ms/step - loss: 0.5145 - accuracy: 0.7717 - val_loss: 0.5030 - val_accuracy: 0.7111\n",
            "Epoch 5/10\n",
            "55/55 [==============================] - 0s 4ms/step - loss: 0.4834 - accuracy: 0.7763 - val_loss: 0.4581 - val_accuracy: 0.7556\n",
            "Epoch 6/10\n",
            "55/55 [==============================] - 0s 4ms/step - loss: 0.4499 - accuracy: 0.7900 - val_loss: 0.4251 - val_accuracy: 0.8222\n",
            "Epoch 7/10\n",
            "55/55 [==============================] - 0s 3ms/step - loss: 0.3948 - accuracy: 0.8128 - val_loss: 0.4006 - val_accuracy: 0.8222\n",
            "Epoch 8/10\n",
            "55/55 [==============================] - 0s 6ms/step - loss: 0.3959 - accuracy: 0.8082 - val_loss: 0.3839 - val_accuracy: 0.8000\n",
            "Epoch 9/10\n",
            "55/55 [==============================] - 0s 6ms/step - loss: 0.3729 - accuracy: 0.8356 - val_loss: 0.3699 - val_accuracy: 0.8222\n",
            "Epoch 10/10\n",
            "55/55 [==============================] - 0s 7ms/step - loss: 0.3594 - accuracy: 0.8356 - val_loss: 0.3594 - val_accuracy: 0.8222\n"
          ]
        },
        {
          "output_type": "execute_result",
          "data": {
            "text/plain": [
              "<keras.src.callbacks.History at 0x7dbca5a6ded0>"
            ]
          },
          "metadata": {},
          "execution_count": 50
        }
      ],
      "source": [
        "## YOUR CODE HERE\n",
        "model.fit(train_ds, epochs=10, validation_data=val_ds)"
      ]
    },
    {
      "cell_type": "markdown",
      "metadata": {
        "id": "ZDrBzU1jaxsY"
      },
      "source": [
        "## Inference on new data [1 Mark]\n",
        "\n",
        "To get a prediction for a new sample, you can simply call `model.predict()`. There are\n",
        "just two things you need to do:\n",
        "\n",
        "1. wrap scalars into a list so as to have a batch dimension (models only process batches\n",
        "of data, not single samples)\n",
        "2. Call `convert_to_tensor` on each feature\n",
        "\n",
        "Note : The predicted output should be either 0  or 1 based on a threshold value of probability 0.5."
      ]
    },
    {
      "cell_type": "code",
      "execution_count": null,
      "metadata": {
        "id": "9OHghLcbaxsY",
        "colab": {
          "base_uri": "https://localhost:8080/"
        },
        "outputId": "fbf1aa8d-ec9c-4053-c6db-d1f0a81e8a27"
      },
      "outputs": [
        {
          "output_type": "stream",
          "name": "stdout",
          "text": [
            "1/1 [==============================] - 1s 771ms/step\n"
          ]
        }
      ],
      "source": [
        "input_dict = {name: tf.convert_to_tensor([value]) for name, value in test_dataframe.drop('target', axis=1).items()}\n",
        "predictions = model.predict(tf.data.Dataset.from_tensor_slices(input_dict))"
      ]
    },
    {
      "cell_type": "code",
      "source": [
        "import seaborn as sn\n",
        "import matplotlib.pyplot as plt"
      ],
      "metadata": {
        "id": "GQECju9Y3NgB"
      },
      "execution_count": null,
      "outputs": []
    },
    {
      "cell_type": "code",
      "source": [
        "print('f1 score : ', f1_score(predictions[:, 0] > 0.5, test_dataframe['target']))\n",
        "sn.heatmap(confusion_matrix(predictions[:, 0] > 0.5, test_dataframe['target']), annot = True)\n",
        "plt.show()"
      ],
      "metadata": {
        "colab": {
          "base_uri": "https://localhost:8080/",
          "height": 452
        },
        "id": "qFxfs1Hv2sPM",
        "outputId": "d17a2152-573a-46a5-c831-6af2969fa09f"
      },
      "execution_count": null,
      "outputs": [
        {
          "output_type": "stream",
          "name": "stdout",
          "text": [
            "f1 score :  0.7272727272727274\n"
          ]
        },
        {
          "output_type": "display_data",
          "data": {
            "text/plain": [
              "<Figure size 640x480 with 2 Axes>"
            ],
            "image/png": "[encoded data removed]"
          },
          "metadata": {}
        }
      ]
    },
    {
      "cell_type": "code",
      "source": [],
      "metadata": {
        "id": "SbOH92be2Cym"
      },
      "execution_count": null,
      "outputs": []
    }
  ],
  "metadata": {
    "colab": {
      "provenance": [],
      "include_colab_link": true
    },
    "kernelspec": {
      "display_name": "Python 3",
      "name": "python3"
    },
    "language_info": {
      "codemirror_mode": {
        "name": "ipython",
        "version": 3
      },
      "file_extension": ".py",
      "mimetype": "text/x-python",
      "name": "python",
      "nbconvert_exporter": "python",
      "pygments_lexer": "ipython3",
      "version": "3.7.0"
    }
  },
  "nbformat": 4,
  "nbformat_minor": 0
}