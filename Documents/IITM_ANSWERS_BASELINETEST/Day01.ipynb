{
 "cells": [
  {
   "cell_type": "markdown",
   "id": "c713e646",
   "metadata": {},
   "source": [
    "## Data & data type"
   ]
  },
  {
   "cell_type": "code",
   "execution_count": 11,
   "id": "991b53fb",
   "metadata": {},
   "outputs": [],
   "source": [
    "a = 10"
   ]
  },
  {
   "cell_type": "code",
   "execution_count": 2,
   "id": "e1cd3e1b",
   "metadata": {},
   "outputs": [
    {
     "data": {
      "text/plain": [
       "10"
      ]
     },
     "execution_count": 2,
     "metadata": {},
     "output_type": "execute_result"
    }
   ],
   "source": [
    "a"
   ]
  },
  {
   "cell_type": "code",
   "execution_count": 3,
   "id": "a43d9ba0",
   "metadata": {},
   "outputs": [],
   "source": [
    "b = '10'"
   ]
  },
  {
   "cell_type": "code",
   "execution_count": 4,
   "id": "34d4fd03",
   "metadata": {},
   "outputs": [
    {
     "data": {
      "text/plain": [
       "'10'"
      ]
     },
     "execution_count": 4,
     "metadata": {},
     "output_type": "execute_result"
    }
   ],
   "source": [
    "b"
   ]
  },
  {
   "cell_type": "code",
   "execution_count": 5,
   "id": "a5aef4a5",
   "metadata": {},
   "outputs": [
    {
     "data": {
      "text/plain": [
       "int"
      ]
     },
     "execution_count": 5,
     "metadata": {},
     "output_type": "execute_result"
    }
   ],
   "source": [
    "type(a)"
   ]
  },
  {
   "cell_type": "code",
   "execution_count": 6,
   "id": "ab1ecc5d",
   "metadata": {},
   "outputs": [
    {
     "data": {
      "text/plain": [
       "str"
      ]
     },
     "execution_count": 6,
     "metadata": {},
     "output_type": "execute_result"
    }
   ],
   "source": [
    "type(b)"
   ]
  },
  {
   "cell_type": "code",
   "execution_count": 7,
   "id": "3c47f889",
   "metadata": {},
   "outputs": [
    {
     "data": {
      "text/plain": [
       "str"
      ]
     },
     "execution_count": 7,
     "metadata": {},
     "output_type": "execute_result"
    }
   ],
   "source": [
    "type('d')"
   ]
  },
  {
   "cell_type": "code",
   "execution_count": 8,
   "id": "b70c034c",
   "metadata": {},
   "outputs": [],
   "source": [
    "a = True"
   ]
  },
  {
   "cell_type": "code",
   "execution_count": 9,
   "id": "d1aab8c3",
   "metadata": {},
   "outputs": [
    {
     "data": {
      "text/plain": [
       "bool"
      ]
     },
     "execution_count": 9,
     "metadata": {},
     "output_type": "execute_result"
    }
   ],
   "source": [
    "type(a)"
   ]
  },
  {
   "cell_type": "code",
   "execution_count": 10,
   "id": "fedb92ca",
   "metadata": {},
   "outputs": [
    {
     "data": {
      "text/plain": [
       "True"
      ]
     },
     "execution_count": 10,
     "metadata": {},
     "output_type": "execute_result"
    }
   ],
   "source": [
    "a"
   ]
  },
  {
   "cell_type": "code",
   "execution_count": 12,
   "id": "1be49c09",
   "metadata": {
    "scrolled": true
   },
   "outputs": [
    {
     "data": {
      "text/plain": [
       "10"
      ]
     },
     "execution_count": 12,
     "metadata": {},
     "output_type": "execute_result"
    }
   ],
   "source": [
    "a"
   ]
  },
  {
   "cell_type": "code",
   "execution_count": 13,
   "id": "00b2bdd9",
   "metadata": {},
   "outputs": [
    {
     "data": {
      "text/plain": [
       "9793376"
      ]
     },
     "execution_count": 13,
     "metadata": {},
     "output_type": "execute_result"
    }
   ],
   "source": [
    "id(a)"
   ]
  },
  {
   "cell_type": "code",
   "execution_count": 14,
   "id": "1369c1c1",
   "metadata": {},
   "outputs": [],
   "source": [
    "b = 10"
   ]
  },
  {
   "cell_type": "code",
   "execution_count": 15,
   "id": "9058a304",
   "metadata": {},
   "outputs": [
    {
     "data": {
      "text/plain": [
       "9793376"
      ]
     },
     "execution_count": 15,
     "metadata": {},
     "output_type": "execute_result"
    }
   ],
   "source": [
    "id(b)"
   ]
  },
  {
   "cell_type": "code",
   "execution_count": 18,
   "id": "35175584",
   "metadata": {},
   "outputs": [],
   "source": [
    "b = '10a'"
   ]
  },
  {
   "cell_type": "code",
   "execution_count": 19,
   "id": "b81c5280",
   "metadata": {},
   "outputs": [
    {
     "ename": "ValueError",
     "evalue": "invalid literal for int() with base 10: '10a'",
     "output_type": "error",
     "traceback": [
      "\u001b[0;31m---------------------------------------------------------------------------\u001b[0m",
      "\u001b[0;31mValueError\u001b[0m                                Traceback (most recent call last)",
      "Input \u001b[0;32mIn [19]\u001b[0m, in \u001b[0;36m<cell line: 1>\u001b[0;34m()\u001b[0m\n\u001b[0;32m----> 1\u001b[0m \u001b[38;5;28;43mint\u001b[39;49m\u001b[43m(\u001b[49m\u001b[43mb\u001b[49m\u001b[43m)\u001b[49m\n",
      "\u001b[0;31mValueError\u001b[0m: invalid literal for int() with base 10: '10a'"
     ]
    }
   ],
   "source": [
    "int(b)"
   ]
  },
  {
   "cell_type": "markdown",
   "id": "45308eac",
   "metadata": {},
   "source": [
    "## Functions"
   ]
  },
  {
   "cell_type": "code",
   "execution_count": 26,
   "id": "ea23f65b",
   "metadata": {},
   "outputs": [],
   "source": [
    "def square(num):\n",
    "    sq1 = num ** 2\n",
    "    sq2 = num * num\n",
    "    return sq1, sq2"
   ]
  },
  {
   "cell_type": "code",
   "execution_count": 28,
   "id": "96cdf064",
   "metadata": {},
   "outputs": [],
   "source": [
    "a, b = square(10)"
   ]
  },
  {
   "cell_type": "code",
   "execution_count": 29,
   "id": "5966bf39",
   "metadata": {},
   "outputs": [
    {
     "data": {
      "text/plain": [
       "100"
      ]
     },
     "execution_count": 29,
     "metadata": {},
     "output_type": "execute_result"
    }
   ],
   "source": [
    "a"
   ]
  },
  {
   "cell_type": "code",
   "execution_count": 30,
   "id": "6ebb1dd7",
   "metadata": {},
   "outputs": [
    {
     "data": {
      "text/plain": [
       "100"
      ]
     },
     "execution_count": 30,
     "metadata": {},
     "output_type": "execute_result"
    }
   ],
   "source": [
    "b"
   ]
  },
  {
   "cell_type": "code",
   "execution_count": 32,
   "id": "a141a304",
   "metadata": {},
   "outputs": [
    {
     "data": {
      "text/plain": [
       "100"
      ]
     },
     "execution_count": 32,
     "metadata": {},
     "output_type": "execute_result"
    }
   ],
   "source": [
    "square(10)[0]"
   ]
  },
  {
   "cell_type": "code",
   "execution_count": 33,
   "id": "311edabc",
   "metadata": {},
   "outputs": [
    {
     "data": {
      "text/plain": [
       "100"
      ]
     },
     "execution_count": 33,
     "metadata": {},
     "output_type": "execute_result"
    }
   ],
   "source": [
    "square(10)[1]"
   ]
  },
  {
   "cell_type": "markdown",
   "id": "d837e8f6",
   "metadata": {},
   "source": [
    "## Control Flow"
   ]
  },
  {
   "cell_type": "markdown",
   "id": "2906465f",
   "metadata": {},
   "source": [
    "#### if statement"
   ]
  },
  {
   "cell_type": "code",
   "execution_count": 39,
   "id": "6c434b7e",
   "metadata": {},
   "outputs": [
    {
     "name": "stdout",
     "output_type": "stream",
     "text": [
      "The number is even 34\n",
      "something else\n",
      "Finished\n"
     ]
    }
   ],
   "source": [
    "num = 34\n",
    "if num%2==0:\n",
    "    print(\"The number is even\", num)\n",
    "    print(\"something else\")\n",
    "    \n",
    "print(\"Finished\")"
   ]
  },
  {
   "cell_type": "code",
   "execution_count": 40,
   "id": "25c8b95c",
   "metadata": {},
   "outputs": [
    {
     "name": "stdout",
     "output_type": "stream",
     "text": [
      "The number is odd\n",
      "Finished\n"
     ]
    }
   ],
   "source": [
    "num = 33\n",
    "if num%2==0:\n",
    "    print(\"The number is even\", num)\n",
    "    print(\"something else\")\n",
    "else:\n",
    "    print(\"The number is odd\")\n",
    "    \n",
    "print(\"Finished\")"
   ]
  },
  {
   "cell_type": "markdown",
   "id": "d5132cd1",
   "metadata": {},
   "source": [
    "age 0-18: No tax\n",
    "age 18-65: Tax slot 1\n",
    "age 65: Tax slot 2"
   ]
  },
  {
   "cell_type": "code",
   "execution_count": 44,
   "id": "ec9528ae",
   "metadata": {},
   "outputs": [
    {
     "name": "stdout",
     "output_type": "stream",
     "text": [
      "Slot 3\n"
     ]
    }
   ],
   "source": [
    "age = 66\n",
    "\n",
    "if age < 18:\n",
    "    print(\"No tax\")\n",
    "\n",
    "elif 18 < age < 65:\n",
    "    print(\"Slot 1\")\n",
    "\n",
    "elif 65 < age < 67:\n",
    "    print(\"Slot 3\")\n",
    "    \n",
    "else:\n",
    "    print(\"Slot 2\")"
   ]
  },
  {
   "cell_type": "markdown",
   "id": "2bcaf3a6",
   "metadata": {},
   "source": [
    "#### Nested if statement"
   ]
  },
  {
   "cell_type": "code",
   "execution_count": 48,
   "id": "3b5bc08f",
   "metadata": {},
   "outputs": [
    {
     "name": "stdout",
     "output_type": "stream",
     "text": [
      "Slot 3\n"
     ]
    }
   ],
   "source": [
    "if age < 18:\n",
    "    if age > 14:\n",
    "        print(\"Some regime\")\n",
    "    print('No tax')\n",
    "\n",
    "elif 18 < age < 65:\n",
    "    print(\"Slot 1\")\n",
    "\n",
    "elif 65 < age < 67:\n",
    "    print(\"Slot 3\")\n",
    "    \n",
    "else:\n",
    "    print(\"Slot 2\") \n"
   ]
  },
  {
   "cell_type": "markdown",
   "id": "47e48493",
   "metadata": {},
   "source": [
    "### Loops"
   ]
  },
  {
   "cell_type": "markdown",
   "id": "b2b8d617",
   "metadata": {},
   "source": [
    "#### for loop"
   ]
  },
  {
   "cell_type": "code",
   "execution_count": 49,
   "id": "38f74af9",
   "metadata": {},
   "outputs": [],
   "source": [
    "employees = [1000000, 1500000, 2500000]"
   ]
  },
  {
   "cell_type": "code",
   "execution_count": 50,
   "id": "6e8b2a33",
   "metadata": {},
   "outputs": [
    {
     "name": "stdout",
     "output_type": "stream",
     "text": [
      "1000000\n",
      "1500000\n",
      "2500000\n"
     ]
    }
   ],
   "source": [
    "for salary in employees:\n",
    "    print(salary)"
   ]
  },
  {
   "cell_type": "code",
   "execution_count": 52,
   "id": "1cd7b3be",
   "metadata": {},
   "outputs": [
    {
     "data": {
      "text/plain": [
       "[1000000, 1500000]"
      ]
     },
     "execution_count": 52,
     "metadata": {},
     "output_type": "execute_result"
    }
   ],
   "source": [
    "employees[:-1]"
   ]
  },
  {
   "cell_type": "markdown",
   "id": "85e36f0f",
   "metadata": {},
   "source": [
    "#### while loop"
   ]
  },
  {
   "cell_type": "code",
   "execution_count": 54,
   "id": "fd52c1e0",
   "metadata": {},
   "outputs": [
    {
     "name": "stdout",
     "output_type": "stream",
     "text": [
      "Current Balance:  100\n",
      "Current Balance:  200\n",
      "Current Balance:  300\n",
      "Current Balance:  400\n",
      "Current Balance:  500\n",
      "Current Balance:  600\n",
      "Current Balance:  700\n",
      "Current Balance:  800\n",
      "Current Balance:  900\n",
      "500\n"
     ]
    }
   ],
   "source": [
    "current_balance = 100\n",
    "fd_cutoff = 1000\n",
    "fd_amt = 500\n",
    "\n",
    "while current_balance < fd_cutoff:\n",
    "    print(\"Current Balance: \", current_balance)\n",
    "    current_balance += 100\n",
    "    \n",
    "\n",
    "current_balance = current_balance - fd_amt\n",
    "print(current_balance)"
   ]
  },
  {
   "cell_type": "code",
   "execution_count": 55,
   "id": "0d0cf2cd",
   "metadata": {},
   "outputs": [
    {
     "name": "stdout",
     "output_type": "stream",
     "text": [
      "0\n",
      "1\n",
      "2\n",
      "3\n",
      "4\n",
      "5\n",
      "6\n",
      "7\n",
      "8\n",
      "9\n",
      "10\n"
     ]
    }
   ],
   "source": [
    "counter = 0\n",
    "while counter <= 10:\n",
    "    print(counter)\n",
    "    counter +=1"
   ]
  },
  {
   "cell_type": "code",
   "execution_count": null,
   "id": "b0024e62",
   "metadata": {},
   "outputs": [],
   "source": []
  }
 ],
 "metadata": {
  "kernelspec": {
   "display_name": "Python 3 (ipykernel)",
   "language": "python",
   "name": "python3"
  },
  "language_info": {
   "codemirror_mode": {
    "name": "ipython",
    "version": 3
   },
   "file_extension": ".py",
   "mimetype": "text/x-python",
   "name": "python",
   "nbconvert_exporter": "python",
   "pygments_lexer": "ipython3",
   "version": "3.8.10"
  }
 },
 "nbformat": 4,
 "nbformat_minor": 5
}
