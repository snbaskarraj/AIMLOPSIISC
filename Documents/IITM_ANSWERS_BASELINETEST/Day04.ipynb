{
 "cells": [
  {
   "cell_type": "code",
   "execution_count": 1,
   "id": "68a537fc",
   "metadata": {},
   "outputs": [],
   "source": [
    "list1 = [1,2,3,4,5,6,7]"
   ]
  },
  {
   "cell_type": "code",
   "execution_count": 5,
   "id": "9288209b",
   "metadata": {},
   "outputs": [
    {
     "data": {
      "text/plain": [
       "[1, 2, 3, 4, 5]"
      ]
     },
     "execution_count": 5,
     "metadata": {},
     "output_type": "execute_result"
    }
   ],
   "source": [
    "list1[0:5]"
   ]
  },
  {
   "cell_type": "code",
   "execution_count": 8,
   "id": "1984823c",
   "metadata": {},
   "outputs": [
    {
     "data": {
      "text/plain": [
       "[7, 6, 5, 4, 3]"
      ]
     },
     "execution_count": 8,
     "metadata": {},
     "output_type": "execute_result"
    }
   ],
   "source": [
    "list1[::-1][0:5]"
   ]
  },
  {
   "cell_type": "code",
   "execution_count": 9,
   "id": "92b12cbd",
   "metadata": {},
   "outputs": [
    {
     "name": "stdout",
     "output_type": "stream",
     "text": [
      "90\n"
     ]
    }
   ],
   "source": [
    "result = 0\n",
    "\n",
    "for i in range(10):\n",
    "\n",
    "    for j in range(-1, -10, -1):\n",
    "\n",
    "        result += 1\n",
    "\n",
    "print(result)"
   ]
  },
  {
   "cell_type": "code",
   "execution_count": 10,
   "id": "711772ae",
   "metadata": {},
   "outputs": [
    {
     "data": {
      "text/plain": [
       "[0, 1, 2, 3, 4, 5, 6, 7, 8, 9]"
      ]
     },
     "execution_count": 10,
     "metadata": {},
     "output_type": "execute_result"
    }
   ],
   "source": [
    "list(range(10))"
   ]
  },
  {
   "cell_type": "code",
   "execution_count": 11,
   "id": "6db4bdb5",
   "metadata": {},
   "outputs": [
    {
     "data": {
      "text/plain": [
       "[-1, -2, -3, -4, -5, -6, -7, -8, -9]"
      ]
     },
     "execution_count": 11,
     "metadata": {},
     "output_type": "execute_result"
    }
   ],
   "source": [
    "list(range(-1,-10,-1))"
   ]
  },
  {
   "cell_type": "code",
   "execution_count": 13,
   "id": "53621445",
   "metadata": {
    "scrolled": true
   },
   "outputs": [
    {
     "data": {
      "text/plain": [
       "[1, 3, 5, 7, 9]"
      ]
     },
     "execution_count": 13,
     "metadata": {},
     "output_type": "execute_result"
    }
   ],
   "source": [
    "list(range(1,10,2))"
   ]
  },
  {
   "cell_type": "markdown",
   "id": "eee7748a",
   "metadata": {},
   "source": [
    "## ERROR AND EXCEPTION"
   ]
  },
  {
   "cell_type": "code",
   "execution_count": null,
   "id": "d2654450",
   "metadata": {},
   "outputs": [],
   "source": [
    "try:\n",
    "    pass\n",
    "except:\n",
    "    pass"
   ]
  },
  {
   "cell_type": "code",
   "execution_count": 30,
   "id": "c9f91590",
   "metadata": {},
   "outputs": [
    {
     "ename": "NameError",
     "evalue": "name 'ac' is not defined",
     "output_type": "error",
     "traceback": [
      "\u001b[0;31m---------------------------------------------------------------------------\u001b[0m",
      "\u001b[0;31mNameError\u001b[0m                                 Traceback (most recent call last)",
      "Cell \u001b[0;32mIn[30], line 2\u001b[0m\n\u001b[1;32m      1\u001b[0m ab \u001b[38;5;241m=\u001b[39m \u001b[38;5;241m10\u001b[39m\n\u001b[0;32m----> 2\u001b[0m \u001b[43mac\u001b[49m\n",
      "\u001b[0;31mNameError\u001b[0m: name 'ac' is not defined"
     ]
    }
   ],
   "source": [
    "ab = 10\n",
    "ac"
   ]
  },
  {
   "cell_type": "code",
   "execution_count": 31,
   "id": "a636ba49",
   "metadata": {
    "scrolled": true
   },
   "outputs": [
    {
     "name": "stdout",
     "output_type": "stream",
     "text": [
      "There is some error: name 'ac' is not defined\n"
     ]
    }
   ],
   "source": [
    "try:\n",
    "    ab = 10\n",
    "    ac\n",
    "except Exception as e:\n",
    "    print(f\"There is some error: {e}\")"
   ]
  },
  {
   "cell_type": "code",
   "execution_count": 15,
   "id": "68a8a54c",
   "metadata": {},
   "outputs": [
    {
     "ename": "SyntaxError",
     "evalue": "invalid syntax (4190791958.py, line 1)",
     "output_type": "error",
     "traceback": [
      "\u001b[0;36m  Cell \u001b[0;32mIn[15], line 1\u001b[0;36m\u001b[0m\n\u001b[0;31m    for in range(10):\u001b[0m\n\u001b[0m        ^\u001b[0m\n\u001b[0;31mSyntaxError\u001b[0m\u001b[0;31m:\u001b[0m invalid syntax\n"
     ]
    }
   ],
   "source": [
    "for in range(10):\n",
    "    print(i)"
   ]
  },
  {
   "cell_type": "code",
   "execution_count": 40,
   "id": "5110b30f",
   "metadata": {},
   "outputs": [],
   "source": [
    "import requests as req\n",
    "from requests.exceptions import ConnectionError, MissingSchema"
   ]
  },
  {
   "cell_type": "code",
   "execution_count": 42,
   "id": "77088615",
   "metadata": {},
   "outputs": [
    {
     "name": "stdout",
     "output_type": "stream",
     "text": [
      "The url is missing schema: Invalid URL 'google.com': No scheme supplied. Perhaps you meant https://google.com?\n"
     ]
    }
   ],
   "source": [
    "try:\n",
    "#     response = req.get(\"https://googlecom\") # Connection Issue\n",
    "    response = req.get(\"google.com\") # Missing Schema \n",
    "\n",
    "except ConnectionError as ce:\n",
    "    print(f\"The url is not reachable: {ce}\")\n",
    "\n",
    "except MissingSchema as me:\n",
    "    print(f\"The url is missing schema: {me}\")\n",
    "    \n",
    "except Exception as e:\n",
    "    print(f\"There is some error: {e}\")"
   ]
  },
  {
   "cell_type": "code",
   "execution_count": 43,
   "id": "c3a4aae1",
   "metadata": {},
   "outputs": [
    {
     "name": "stdout",
     "output_type": "stream",
     "text": [
      "There is some error: Invalid URL 'google.com': No scheme supplied. Perhaps you meant https://google.com?\n"
     ]
    }
   ],
   "source": [
    "try:\n",
    "#     response = req.get(\"https://googlecom\") # Connection Issue\n",
    "    response = req.get(\"google.com\") # Missing Schema \n",
    "    \n",
    "except Exception as e:\n",
    "    print(f\"There is some error: {e}\")\n",
    "    \n",
    "except ConnectionError as ce:\n",
    "    print(f\"The url is not reachable: {ce}\")\n",
    "\n",
    "except MissingSchema as me:\n",
    "    print(f\"The url is missing schema: {me}\")\n",
    "    \n"
   ]
  },
  {
   "cell_type": "code",
   "execution_count": 44,
   "id": "69537532",
   "metadata": {},
   "outputs": [],
   "source": [
    "import datetime\n",
    "import time\n",
    "\n"
   ]
  },
  {
   "cell_type": "code",
   "execution_count": 46,
   "id": "505e32ca",
   "metadata": {},
   "outputs": [
    {
     "name": "stdout",
     "output_type": "stream",
     "text": [
      "0:00:03.003357\n"
     ]
    }
   ],
   "source": [
    "st = datetime.datetime.now()\n",
    "time.sleep(3)\n",
    "end = datetime.datetime.now()\n",
    "print(end-st)"
   ]
  },
  {
   "cell_type": "code",
   "execution_count": 50,
   "id": "c1bb2e22",
   "metadata": {},
   "outputs": [
    {
     "name": "stdout",
     "output_type": "stream",
     "text": [
      "The url is not reachable: HTTPSConnectionPool(host='googlecom', port=443): Max retries exceeded with url: / (Caused by NewConnectionError('<urllib3.connection.HTTPSConnection object at 0x7f29b9b9a140>: Failed to establish a new connection: [Errno -3] Temporary failure in name resolution'))\n",
      "The url is not reachable: HTTPSConnectionPool(host='googlecom', port=443): Max retries exceeded with url: / (Caused by NewConnectionError('<urllib3.connection.HTTPSConnection object at 0x7f29b9b9aad0>: Failed to establish a new connection: [Errno -3] Temporary failure in name resolution'))\n",
      "The url is not reachable: HTTPSConnectionPool(host='googlecom', port=443): Max retries exceeded with url: / (Caused by NewConnectionError('<urllib3.connection.HTTPSConnection object at 0x7f29b9b99ea0>: Failed to establish a new connection: [Errno -3] Temporary failure in name resolution'))\n"
     ]
    }
   ],
   "source": [
    "i = 0\n",
    "# while i < 3:\n",
    "while True:\n",
    "    try:\n",
    "        response = req.get(\"https://googlecom\") # Connection Issue\n",
    "#         response = req.get(\"google.com\") # Missing Schema \n",
    "        break\n",
    "    \n",
    "    except ConnectionError as ce:\n",
    "        print(f\"The url is not reachable: {ce}\")\n",
    "        time.sleep(2)\n",
    "        i+=1\n",
    "\n",
    "    except MissingSchema as me:\n",
    "        print(f\"The url is missing schema: {me}\")\n",
    "\n",
    "    except Exception as e:\n",
    "        print(f\"There is some error: {e}\")"
   ]
  },
  {
   "cell_type": "markdown",
   "id": "42783ad0",
   "metadata": {},
   "source": [
    "### Custom Exception"
   ]
  },
  {
   "cell_type": "code",
   "execution_count": 52,
   "id": "4d0fcaf6",
   "metadata": {},
   "outputs": [],
   "source": [
    "def Addition(a, b):\n",
    "    if a < b:\n",
    "        raise\n",
    "    return a + b"
   ]
  },
  {
   "cell_type": "code",
   "execution_count": 53,
   "id": "2e132140",
   "metadata": {},
   "outputs": [
    {
     "data": {
      "text/plain": [
       "15"
      ]
     },
     "execution_count": 53,
     "metadata": {},
     "output_type": "execute_result"
    }
   ],
   "source": [
    "Addition(10, 5)"
   ]
  },
  {
   "cell_type": "code",
   "execution_count": 54,
   "id": "2a174df4",
   "metadata": {},
   "outputs": [
    {
     "ename": "RuntimeError",
     "evalue": "No active exception to reraise",
     "output_type": "error",
     "traceback": [
      "\u001b[0;31m---------------------------------------------------------------------------\u001b[0m",
      "\u001b[0;31mRuntimeError\u001b[0m                              Traceback (most recent call last)",
      "Cell \u001b[0;32mIn[54], line 1\u001b[0m\n\u001b[0;32m----> 1\u001b[0m \u001b[43mAddition\u001b[49m\u001b[43m(\u001b[49m\u001b[38;5;241;43m10\u001b[39;49m\u001b[43m,\u001b[49m\u001b[43m \u001b[49m\u001b[38;5;241;43m50\u001b[39;49m\u001b[43m)\u001b[49m\n",
      "Cell \u001b[0;32mIn[52], line 3\u001b[0m, in \u001b[0;36mAddition\u001b[0;34m(a, b)\u001b[0m\n\u001b[1;32m      1\u001b[0m \u001b[38;5;28;01mdef\u001b[39;00m \u001b[38;5;21mAddition\u001b[39m(a, b):\n\u001b[1;32m      2\u001b[0m     \u001b[38;5;28;01mif\u001b[39;00m a \u001b[38;5;241m<\u001b[39m b:\n\u001b[0;32m----> 3\u001b[0m         \u001b[38;5;28;01mraise\u001b[39;00m\n\u001b[1;32m      4\u001b[0m     \u001b[38;5;28;01mreturn\u001b[39;00m a \u001b[38;5;241m+\u001b[39m b\n",
      "\u001b[0;31mRuntimeError\u001b[0m: No active exception to reraise"
     ]
    }
   ],
   "source": [
    "Addition(10, 50)"
   ]
  },
  {
   "cell_type": "code",
   "execution_count": 55,
   "id": "bf26f86a",
   "metadata": {},
   "outputs": [],
   "source": [
    "class customException(Exception):\n",
    "    def __init__(self, message):\n",
    "        super().__init__(message)\n",
    "        self.message = message\n",
    "    \n",
    "    def __str__(self):\n",
    "        return self.message"
   ]
  },
  {
   "cell_type": "code",
   "execution_count": 58,
   "id": "7ae51a2d",
   "metadata": {},
   "outputs": [],
   "source": [
    "def AdditionCE(a, b):\n",
    "    if a < b: \n",
    "        raise customException(\"A can't be less than b\")\n",
    "    return a + b"
   ]
  },
  {
   "cell_type": "code",
   "execution_count": 60,
   "id": "9c814005",
   "metadata": {},
   "outputs": [
    {
     "ename": "customException",
     "evalue": "A can't be less than b",
     "output_type": "error",
     "traceback": [
      "\u001b[0;31m---------------------------------------------------------------------------\u001b[0m",
      "\u001b[0;31mcustomException\u001b[0m                           Traceback (most recent call last)",
      "Cell \u001b[0;32mIn[60], line 1\u001b[0m\n\u001b[0;32m----> 1\u001b[0m \u001b[43mAdditionCE\u001b[49m\u001b[43m(\u001b[49m\u001b[38;5;241;43m10\u001b[39;49m\u001b[43m,\u001b[49m\u001b[43m \u001b[49m\u001b[38;5;241;43m50\u001b[39;49m\u001b[43m)\u001b[49m\n",
      "Cell \u001b[0;32mIn[58], line 3\u001b[0m, in \u001b[0;36mAdditionCE\u001b[0;34m(a, b)\u001b[0m\n\u001b[1;32m      1\u001b[0m \u001b[38;5;28;01mdef\u001b[39;00m \u001b[38;5;21mAdditionCE\u001b[39m(a, b):\n\u001b[1;32m      2\u001b[0m     \u001b[38;5;28;01mif\u001b[39;00m a \u001b[38;5;241m<\u001b[39m b: \n\u001b[0;32m----> 3\u001b[0m         \u001b[38;5;28;01mraise\u001b[39;00m customException(\u001b[38;5;124m\"\u001b[39m\u001b[38;5;124mA can\u001b[39m\u001b[38;5;124m'\u001b[39m\u001b[38;5;124mt be less than b\u001b[39m\u001b[38;5;124m\"\u001b[39m)\n\u001b[1;32m      4\u001b[0m     \u001b[38;5;28;01mreturn\u001b[39;00m a \u001b[38;5;241m+\u001b[39m b\n",
      "\u001b[0;31mcustomException\u001b[0m: A can't be less than b"
     ]
    }
   ],
   "source": [
    "AdditionCE(10, 50)"
   ]
  },
  {
   "cell_type": "code",
   "execution_count": 63,
   "id": "7911d023",
   "metadata": {},
   "outputs": [
    {
     "ename": "AssertionError",
     "evalue": "X is not 15",
     "output_type": "error",
     "traceback": [
      "\u001b[0;31m---------------------------------------------------------------------------\u001b[0m",
      "\u001b[0;31mAssertionError\u001b[0m                            Traceback (most recent call last)",
      "Cell \u001b[0;32mIn[63], line 2\u001b[0m\n\u001b[1;32m      1\u001b[0m x \u001b[38;5;241m=\u001b[39m \u001b[38;5;241m14\u001b[39m\n\u001b[0;32m----> 2\u001b[0m \u001b[38;5;28;01massert\u001b[39;00m x \u001b[38;5;241m==\u001b[39m \u001b[38;5;241m15\u001b[39m, \u001b[38;5;124m\"\u001b[39m\u001b[38;5;124mX is not 15\u001b[39m\u001b[38;5;124m\"\u001b[39m\n",
      "\u001b[0;31mAssertionError\u001b[0m: X is not 15"
     ]
    }
   ],
   "source": [
    "x = 14\n",
    "assert x == 15, \"X is not 15\""
   ]
  },
  {
   "cell_type": "markdown",
   "id": "f7088246",
   "metadata": {},
   "source": [
    "## File operations"
   ]
  },
  {
   "cell_type": "code",
   "execution_count": 68,
   "id": "da1d5e96",
   "metadata": {},
   "outputs": [],
   "source": [
    "file_handler = open(\"Test.txt\", \"r\")"
   ]
  },
  {
   "cell_type": "code",
   "execution_count": 69,
   "id": "cc9dc39f",
   "metadata": {},
   "outputs": [
    {
     "data": {
      "text/plain": [
       "'Test data\\nThis is the second line'"
      ]
     },
     "execution_count": 69,
     "metadata": {},
     "output_type": "execute_result"
    }
   ],
   "source": [
    "file_handler.read()"
   ]
  },
  {
   "cell_type": "code",
   "execution_count": 70,
   "id": "d9220dfe",
   "metadata": {},
   "outputs": [],
   "source": [
    "file_handler.close()"
   ]
  },
  {
   "cell_type": "code",
   "execution_count": null,
   "id": "a79af640",
   "metadata": {},
   "outputs": [],
   "source": []
  },
  {
   "cell_type": "code",
   "execution_count": 71,
   "id": "21f99ab8",
   "metadata": {},
   "outputs": [],
   "source": [
    "file_handler = open(\"Test.txt\", \"r\")\n",
    "content = file_handler.readlines()\n",
    "file_handler.close()"
   ]
  },
  {
   "cell_type": "code",
   "execution_count": 72,
   "id": "97a4f270",
   "metadata": {},
   "outputs": [
    {
     "data": {
      "text/plain": [
       "['Test data\\n', 'This is the second line']"
      ]
     },
     "execution_count": 72,
     "metadata": {},
     "output_type": "execute_result"
    }
   ],
   "source": [
    "content"
   ]
  },
  {
   "cell_type": "code",
   "execution_count": null,
   "id": "4eef31ef",
   "metadata": {},
   "outputs": [],
   "source": []
  },
  {
   "cell_type": "code",
   "execution_count": 96,
   "id": "be8554e8",
   "metadata": {},
   "outputs": [],
   "source": [
    "file_handler = open(\"Test.txt\", \"r\")\n",
    "# file_handler.readline()\n",
    "# file_handler.close()"
   ]
  },
  {
   "cell_type": "code",
   "execution_count": 97,
   "id": "0c4823e3",
   "metadata": {},
   "outputs": [
    {
     "data": {
      "text/plain": [
       "0"
      ]
     },
     "execution_count": 97,
     "metadata": {},
     "output_type": "execute_result"
    }
   ],
   "source": [
    "file_handler.tell()"
   ]
  },
  {
   "cell_type": "markdown",
   "id": "a900c000",
   "metadata": {},
   "source": [
    "### Seek"
   ]
  },
  {
   "cell_type": "code",
   "execution_count": 99,
   "id": "3b92e1d7",
   "metadata": {},
   "outputs": [
    {
     "data": {
      "text/plain": [
       "'This is some li'"
      ]
     },
     "execution_count": 99,
     "metadata": {},
     "output_type": "execute_result"
    }
   ],
   "source": [
    "file_handler.read(15)"
   ]
  },
  {
   "cell_type": "code",
   "execution_count": 100,
   "id": "ad1cedee",
   "metadata": {},
   "outputs": [
    {
     "data": {
      "text/plain": [
       "0"
      ]
     },
     "execution_count": 100,
     "metadata": {},
     "output_type": "execute_result"
    }
   ],
   "source": [
    "file_handler.seek(0)"
   ]
  },
  {
   "cell_type": "code",
   "execution_count": 102,
   "id": "848fad6a",
   "metadata": {},
   "outputs": [
    {
     "data": {
      "text/plain": [
       "0"
      ]
     },
     "execution_count": 102,
     "metadata": {},
     "output_type": "execute_result"
    }
   ],
   "source": [
    "file_handler.tell()"
   ]
  },
  {
   "cell_type": "code",
   "execution_count": 103,
   "id": "33c8b8a0",
   "metadata": {},
   "outputs": [
    {
     "data": {
      "text/plain": [
       "'This is some line\\n'"
      ]
     },
     "execution_count": 103,
     "metadata": {},
     "output_type": "execute_result"
    }
   ],
   "source": [
    "file_handler.readline()"
   ]
  },
  {
   "cell_type": "markdown",
   "id": "783c2b4b",
   "metadata": {},
   "source": [
    "### End Seek"
   ]
  },
  {
   "cell_type": "code",
   "execution_count": null,
   "id": "c4268505",
   "metadata": {},
   "outputs": [],
   "source": []
  },
  {
   "cell_type": "code",
   "execution_count": null,
   "id": "fe37f8a2",
   "metadata": {},
   "outputs": [],
   "source": []
  },
  {
   "cell_type": "code",
   "execution_count": null,
   "id": "7675f29d",
   "metadata": {},
   "outputs": [],
   "source": []
  },
  {
   "cell_type": "markdown",
   "id": "00dee954",
   "metadata": {},
   "source": [
    "### Tell"
   ]
  },
  {
   "cell_type": "code",
   "execution_count": 88,
   "id": "38c352e5",
   "metadata": {},
   "outputs": [
    {
     "data": {
      "text/plain": [
       "'This is some line\\n'"
      ]
     },
     "execution_count": 88,
     "metadata": {},
     "output_type": "execute_result"
    }
   ],
   "source": [
    "file_handler.readline()"
   ]
  },
  {
   "cell_type": "code",
   "execution_count": 89,
   "id": "a64f3fa8",
   "metadata": {},
   "outputs": [
    {
     "data": {
      "text/plain": [
       "18"
      ]
     },
     "execution_count": 89,
     "metadata": {},
     "output_type": "execute_result"
    }
   ],
   "source": [
    "file_handler.tell()"
   ]
  },
  {
   "cell_type": "code",
   "execution_count": 90,
   "id": "70b60aa6",
   "metadata": {},
   "outputs": [
    {
     "data": {
      "text/plain": [
       "'This is some important content\\n'"
      ]
     },
     "execution_count": 90,
     "metadata": {},
     "output_type": "execute_result"
    }
   ],
   "source": [
    "file_handler.readline()"
   ]
  },
  {
   "cell_type": "code",
   "execution_count": 91,
   "id": "3c58505f",
   "metadata": {},
   "outputs": [
    {
     "data": {
      "text/plain": [
       "49"
      ]
     },
     "execution_count": 91,
     "metadata": {},
     "output_type": "execute_result"
    }
   ],
   "source": [
    "file_handler.tell()"
   ]
  },
  {
   "cell_type": "code",
   "execution_count": 92,
   "id": "8b16a183",
   "metadata": {},
   "outputs": [
    {
     "data": {
      "text/plain": [
       "'Some more'"
      ]
     },
     "execution_count": 92,
     "metadata": {},
     "output_type": "execute_result"
    }
   ],
   "source": [
    "file_handler.readline()"
   ]
  },
  {
   "cell_type": "code",
   "execution_count": 93,
   "id": "87d132bd",
   "metadata": {},
   "outputs": [
    {
     "data": {
      "text/plain": [
       "58"
      ]
     },
     "execution_count": 93,
     "metadata": {},
     "output_type": "execute_result"
    }
   ],
   "source": [
    "file_handler.tell()"
   ]
  },
  {
   "cell_type": "markdown",
   "id": "2d29f755",
   "metadata": {},
   "source": [
    "### End Tell"
   ]
  },
  {
   "cell_type": "code",
   "execution_count": null,
   "id": "0294f57b",
   "metadata": {},
   "outputs": [],
   "source": []
  },
  {
   "cell_type": "code",
   "execution_count": null,
   "id": "0b2af46f",
   "metadata": {},
   "outputs": [],
   "source": []
  },
  {
   "cell_type": "code",
   "execution_count": null,
   "id": "f41d8c18",
   "metadata": {},
   "outputs": [],
   "source": []
  },
  {
   "cell_type": "code",
   "execution_count": null,
   "id": "fad19f36",
   "metadata": {},
   "outputs": [],
   "source": []
  },
  {
   "cell_type": "code",
   "execution_count": null,
   "id": "7fa31b06",
   "metadata": {},
   "outputs": [],
   "source": []
  },
  {
   "cell_type": "code",
   "execution_count": null,
   "id": "2217f095",
   "metadata": {},
   "outputs": [],
   "source": []
  },
  {
   "cell_type": "code",
   "execution_count": 74,
   "id": "dc704892",
   "metadata": {},
   "outputs": [
    {
     "data": {
      "text/plain": [
       "'This is the second line'"
      ]
     },
     "execution_count": 74,
     "metadata": {},
     "output_type": "execute_result"
    }
   ],
   "source": [
    "file_handler.readline()"
   ]
  },
  {
   "cell_type": "code",
   "execution_count": 75,
   "id": "4035dcc9",
   "metadata": {},
   "outputs": [
    {
     "data": {
      "text/plain": [
       "''"
      ]
     },
     "execution_count": 75,
     "metadata": {},
     "output_type": "execute_result"
    }
   ],
   "source": [
    "file_handler.readline()"
   ]
  },
  {
   "cell_type": "code",
   "execution_count": 85,
   "id": "c4d3de70",
   "metadata": {},
   "outputs": [],
   "source": [
    "file_handler.close()"
   ]
  },
  {
   "cell_type": "code",
   "execution_count": 78,
   "id": "92b2f2d4",
   "metadata": {},
   "outputs": [],
   "source": [
    "file_handler = open(\"Test.txt\", \"a+\")\n",
    "newLine = \"This is third line\""
   ]
  },
  {
   "cell_type": "code",
   "execution_count": 79,
   "id": "20d9bb11",
   "metadata": {},
   "outputs": [
    {
     "data": {
      "text/plain": [
       "18"
      ]
     },
     "execution_count": 79,
     "metadata": {},
     "output_type": "execute_result"
    }
   ],
   "source": [
    "file_handler.write(newLine)"
   ]
  },
  {
   "cell_type": "code",
   "execution_count": 80,
   "id": "75095ec5",
   "metadata": {},
   "outputs": [],
   "source": [
    "file_handler.close()"
   ]
  },
  {
   "cell_type": "code",
   "execution_count": 81,
   "id": "9406ae2d",
   "metadata": {},
   "outputs": [],
   "source": [
    "file_handler = open(\"Test.txt\", \"w\")\n",
    "newLine = \"This is some line\"\n",
    "file_handler.write(newLine)\n",
    "file_handler.close()"
   ]
  },
  {
   "cell_type": "code",
   "execution_count": null,
   "id": "8d28caf8",
   "metadata": {},
   "outputs": [],
   "source": []
  },
  {
   "cell_type": "markdown",
   "id": "de385b56",
   "metadata": {},
   "source": [
    "### Lambda Function"
   ]
  },
  {
   "cell_type": "code",
   "execution_count": 104,
   "id": "d4c02c1d",
   "metadata": {},
   "outputs": [],
   "source": [
    "y = lambda x, y, z: x+y+z"
   ]
  },
  {
   "cell_type": "code",
   "execution_count": 105,
   "id": "43f0bbd0",
   "metadata": {},
   "outputs": [
    {
     "data": {
      "text/plain": [
       "70"
      ]
     },
     "execution_count": 105,
     "metadata": {},
     "output_type": "execute_result"
    }
   ],
   "source": [
    "y(10, 20, 40)"
   ]
  },
  {
   "cell_type": "code",
   "execution_count": 107,
   "id": "3a067e3e",
   "metadata": {},
   "outputs": [],
   "source": [
    "myList = [1,2,3,4,5]"
   ]
  },
  {
   "cell_type": "code",
   "execution_count": 108,
   "id": "4f16b69a",
   "metadata": {},
   "outputs": [
    {
     "data": {
      "text/plain": [
       "[1, 4, 9, 16, 25]"
      ]
     },
     "execution_count": 108,
     "metadata": {},
     "output_type": "execute_result"
    }
   ],
   "source": [
    "# map(FUNC, ITERATOR)\n",
    "\n",
    "list(map(lambda x: x**2, myList))"
   ]
  },
  {
   "cell_type": "code",
   "execution_count": null,
   "id": "73239dde",
   "metadata": {},
   "outputs": [],
   "source": []
  },
  {
   "cell_type": "code",
   "execution_count": 110,
   "id": "5f2a4097",
   "metadata": {},
   "outputs": [
    {
     "data": {
      "text/plain": [
       "[False, True, False, True, False]"
      ]
     },
     "execution_count": 110,
     "metadata": {},
     "output_type": "execute_result"
    }
   ],
   "source": [
    "list(map(lambda x: True if x%2 == 0 else False, myList))\n"
   ]
  },
  {
   "cell_type": "code",
   "execution_count": 111,
   "id": "c261d632",
   "metadata": {},
   "outputs": [
    {
     "data": {
      "text/plain": [
       "['Odd', 'Even', 'Odd', 'Even', 'Odd']"
      ]
     },
     "execution_count": 111,
     "metadata": {},
     "output_type": "execute_result"
    }
   ],
   "source": [
    "list(map(lambda x: \"Even\" if x%2 == 0 else \"Odd\", myList))\n"
   ]
  },
  {
   "cell_type": "code",
   "execution_count": null,
   "id": "9b7e24b3",
   "metadata": {},
   "outputs": [],
   "source": []
  },
  {
   "cell_type": "code",
   "execution_count": null,
   "id": "0c907804",
   "metadata": {},
   "outputs": [],
   "source": [
    "filter(FUNC, ITERATOR)"
   ]
  },
  {
   "cell_type": "code",
   "execution_count": 112,
   "id": "ee48a0fe",
   "metadata": {},
   "outputs": [
    {
     "data": {
      "text/plain": [
       "[2, 4]"
      ]
     },
     "execution_count": 112,
     "metadata": {},
     "output_type": "execute_result"
    }
   ],
   "source": [
    "list(filter(lambda x: True if x%2 == 0 else False, myList))"
   ]
  },
  {
   "cell_type": "code",
   "execution_count": null,
   "id": "2aa503ed",
   "metadata": {},
   "outputs": [],
   "source": []
  }
 ],
 "metadata": {
  "kernelspec": {
   "display_name": "Python 3 (ipykernel)",
   "language": "python",
   "name": "python3"
  },
  "language_info": {
   "codemirror_mode": {
    "name": "ipython",
    "version": 3
   },
   "file_extension": ".py",
   "mimetype": "text/x-python",
   "name": "python",
   "nbconvert_exporter": "python",
   "pygments_lexer": "ipython3",
   "version": "3.10.6"
  }
 },
 "nbformat": 4,
 "nbformat_minor": 5
}
