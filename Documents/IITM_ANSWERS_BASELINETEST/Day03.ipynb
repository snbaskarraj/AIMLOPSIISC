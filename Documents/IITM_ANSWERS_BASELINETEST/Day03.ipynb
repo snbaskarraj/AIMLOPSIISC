{
 "cells": [
  {
   "cell_type": "markdown",
   "id": "11b1346a",
   "metadata": {},
   "source": [
    "# Data types"
   ]
  },
  {
   "cell_type": "markdown",
   "id": "57bce921",
   "metadata": {},
   "source": [
    "## Numerical"
   ]
  },
  {
   "cell_type": "code",
   "execution_count": 2,
   "id": "10777825",
   "metadata": {},
   "outputs": [],
   "source": [
    "a = 15 ### Integers"
   ]
  },
  {
   "cell_type": "code",
   "execution_count": 3,
   "id": "ab8fc025",
   "metadata": {},
   "outputs": [],
   "source": [
    "b = 15.0 ### Float"
   ]
  },
  {
   "cell_type": "code",
   "execution_count": 4,
   "id": "92e45bbb",
   "metadata": {},
   "outputs": [],
   "source": [
    "c = 10 + 3j ### Complex"
   ]
  },
  {
   "cell_type": "code",
   "execution_count": 5,
   "id": "4f41583a",
   "metadata": {},
   "outputs": [
    {
     "data": {
      "text/plain": [
       "int"
      ]
     },
     "metadata": {},
     "output_type": "display_data"
    },
    {
     "data": {
      "text/plain": [
       "float"
      ]
     },
     "metadata": {},
     "output_type": "display_data"
    },
    {
     "data": {
      "text/plain": [
       "complex"
      ]
     },
     "metadata": {},
     "output_type": "display_data"
    }
   ],
   "source": [
    "display(type(a))\n",
    "display(type(b))\n",
    "display(type(c))"
   ]
  },
  {
   "cell_type": "markdown",
   "id": "6bd4034d",
   "metadata": {},
   "source": [
    "## Booleans\n",
    "\n"
   ]
  },
  {
   "cell_type": "code",
   "execution_count": 7,
   "id": "b64beec4",
   "metadata": {},
   "outputs": [],
   "source": [
    "d = True\n",
    "e = False"
   ]
  },
  {
   "cell_type": "code",
   "execution_count": 8,
   "id": "e5fea90e",
   "metadata": {},
   "outputs": [
    {
     "data": {
      "text/plain": [
       "bool"
      ]
     },
     "metadata": {},
     "output_type": "display_data"
    },
    {
     "data": {
      "text/plain": [
       "bool"
      ]
     },
     "metadata": {},
     "output_type": "display_data"
    }
   ],
   "source": [
    "display(type(d))\n",
    "display(type(e))"
   ]
  },
  {
   "cell_type": "markdown",
   "id": "bbd71313",
   "metadata": {},
   "source": [
    "## Strings"
   ]
  },
  {
   "cell_type": "code",
   "execution_count": 19,
   "id": "c2396cc2",
   "metadata": {},
   "outputs": [],
   "source": [
    "f = \"Hello World \"\n",
    "g = \"A \"\n",
    "h = \"10 \""
   ]
  },
  {
   "cell_type": "code",
   "execution_count": 20,
   "id": "e8111a63",
   "metadata": {},
   "outputs": [
    {
     "data": {
      "text/plain": [
       "str"
      ]
     },
     "metadata": {},
     "output_type": "display_data"
    },
    {
     "data": {
      "text/plain": [
       "str"
      ]
     },
     "metadata": {},
     "output_type": "display_data"
    },
    {
     "data": {
      "text/plain": [
       "str"
      ]
     },
     "metadata": {},
     "output_type": "display_data"
    }
   ],
   "source": [
    "display(type(f))\n",
    "display(type(g))\n",
    "display(type(h))"
   ]
  },
  {
   "cell_type": "code",
   "execution_count": 57,
   "id": "247ce6f0",
   "metadata": {},
   "outputs": [
    {
     "data": {
      "text/plain": [
       "'hello world '"
      ]
     },
     "execution_count": 57,
     "metadata": {},
     "output_type": "execute_result"
    }
   ],
   "source": [
    "f.lower()"
   ]
  },
  {
   "cell_type": "code",
   "execution_count": 75,
   "id": "e43d8ffc",
   "metadata": {},
   "outputs": [
    {
     "data": {
      "text/plain": [
       "'H'"
      ]
     },
     "execution_count": 75,
     "metadata": {},
     "output_type": "execute_result"
    }
   ],
   "source": [
    "f[0]"
   ]
  },
  {
   "cell_type": "code",
   "execution_count": 76,
   "id": "ec13fd8a",
   "metadata": {},
   "outputs": [
    {
     "ename": "TypeError",
     "evalue": "'str' object does not support item assignment",
     "output_type": "error",
     "traceback": [
      "\u001b[0;31m---------------------------------------------------------------------------\u001b[0m",
      "\u001b[0;31mTypeError\u001b[0m                                 Traceback (most recent call last)",
      "Input \u001b[0;32mIn [76]\u001b[0m, in \u001b[0;36m<cell line: 1>\u001b[0;34m()\u001b[0m\n\u001b[0;32m----> 1\u001b[0m \u001b[43mf\u001b[49m\u001b[43m[\u001b[49m\u001b[38;5;241;43m0\u001b[39;49m\u001b[43m]\u001b[49m \u001b[38;5;241m=\u001b[39m \u001b[38;5;124m\"\u001b[39m\u001b[38;5;124mh\u001b[39m\u001b[38;5;124m\"\u001b[39m\n",
      "\u001b[0;31mTypeError\u001b[0m: 'str' object does not support item assignment"
     ]
    }
   ],
   "source": [
    "f[0] = \"h\""
   ]
  },
  {
   "cell_type": "code",
   "execution_count": 78,
   "id": "53972df2",
   "metadata": {},
   "outputs": [
    {
     "data": {
      "text/plain": [
       "'hi World '"
      ]
     },
     "execution_count": 78,
     "metadata": {},
     "output_type": "execute_result"
    }
   ],
   "source": [
    "f.replace(\"Hello\", \"hi\")"
   ]
  },
  {
   "cell_type": "code",
   "execution_count": 79,
   "id": "f7dcd71e",
   "metadata": {},
   "outputs": [
    {
     "data": {
      "text/plain": [
       "'Hello World '"
      ]
     },
     "execution_count": 79,
     "metadata": {},
     "output_type": "execute_result"
    }
   ],
   "source": [
    "f"
   ]
  },
  {
   "cell_type": "markdown",
   "id": "29b90b92",
   "metadata": {},
   "source": [
    "# Operators"
   ]
  },
  {
   "cell_type": "code",
   "execution_count": 13,
   "id": "92e6f90c",
   "metadata": {},
   "outputs": [],
   "source": [
    "ab = a + b"
   ]
  },
  {
   "cell_type": "code",
   "execution_count": 14,
   "id": "6b57104a",
   "metadata": {},
   "outputs": [
    {
     "data": {
      "text/plain": [
       "30.0"
      ]
     },
     "execution_count": 14,
     "metadata": {},
     "output_type": "execute_result"
    }
   ],
   "source": [
    "ab"
   ]
  },
  {
   "cell_type": "code",
   "execution_count": 15,
   "id": "d9159d3c",
   "metadata": {},
   "outputs": [
    {
     "data": {
      "text/plain": [
       "float"
      ]
     },
     "execution_count": 15,
     "metadata": {},
     "output_type": "execute_result"
    }
   ],
   "source": [
    "type(ab)"
   ]
  },
  {
   "cell_type": "code",
   "execution_count": 16,
   "id": "0e80e74c",
   "metadata": {},
   "outputs": [
    {
     "ename": "TypeError",
     "evalue": "can only concatenate str (not \"int\") to str",
     "output_type": "error",
     "traceback": [
      "\u001b[0;31m---------------------------------------------------------------------------\u001b[0m",
      "\u001b[0;31mTypeError\u001b[0m                                 Traceback (most recent call last)",
      "Input \u001b[0;32mIn [16]\u001b[0m, in \u001b[0;36m<cell line: 1>\u001b[0;34m()\u001b[0m\n\u001b[0;32m----> 1\u001b[0m \u001b[43mf\u001b[49m\u001b[43m \u001b[49m\u001b[38;5;241;43m+\u001b[39;49m\u001b[43m \u001b[49m\u001b[43ma\u001b[49m\n",
      "\u001b[0;31mTypeError\u001b[0m: can only concatenate str (not \"int\") to str"
     ]
    }
   ],
   "source": [
    "f + a"
   ]
  },
  {
   "cell_type": "code",
   "execution_count": 21,
   "id": "e47b8c61",
   "metadata": {},
   "outputs": [
    {
     "data": {
      "text/plain": [
       "'Hello World 15'"
      ]
     },
     "execution_count": 21,
     "metadata": {},
     "output_type": "execute_result"
    }
   ],
   "source": [
    "f + str(a)"
   ]
  },
  {
   "cell_type": "code",
   "execution_count": 22,
   "id": "ad493bd8",
   "metadata": {},
   "outputs": [
    {
     "data": {
      "text/plain": [
       "'Hello World A '"
      ]
     },
     "execution_count": 22,
     "metadata": {},
     "output_type": "execute_result"
    }
   ],
   "source": [
    "f + g"
   ]
  },
  {
   "cell_type": "code",
   "execution_count": 23,
   "id": "75516e3f",
   "metadata": {},
   "outputs": [
    {
     "data": {
      "text/plain": [
       "225.0"
      ]
     },
     "execution_count": 23,
     "metadata": {},
     "output_type": "execute_result"
    }
   ],
   "source": [
    "a * b"
   ]
  },
  {
   "cell_type": "code",
   "execution_count": 27,
   "id": "d278e6f4",
   "metadata": {},
   "outputs": [
    {
     "data": {
      "text/plain": [
       "'Hello World '"
      ]
     },
     "execution_count": 27,
     "metadata": {},
     "output_type": "execute_result"
    }
   ],
   "source": [
    "f"
   ]
  },
  {
   "cell_type": "code",
   "execution_count": 28,
   "id": "bcef9fd3",
   "metadata": {},
   "outputs": [
    {
     "data": {
      "text/plain": [
       "15"
      ]
     },
     "execution_count": 28,
     "metadata": {},
     "output_type": "execute_result"
    }
   ],
   "source": [
    "a"
   ]
  },
  {
   "cell_type": "code",
   "execution_count": 30,
   "id": "9edd15b7",
   "metadata": {},
   "outputs": [
    {
     "data": {
      "text/plain": [
       "'Hello World Hello World '"
      ]
     },
     "execution_count": 30,
     "metadata": {},
     "output_type": "execute_result"
    }
   ],
   "source": [
    "f * 2"
   ]
  },
  {
   "cell_type": "code",
   "execution_count": 25,
   "id": "19890a2a",
   "metadata": {},
   "outputs": [
    {
     "data": {
      "text/plain": [
       "9793536"
      ]
     },
     "execution_count": 25,
     "metadata": {},
     "output_type": "execute_result"
    }
   ],
   "source": [
    "id(a)"
   ]
  },
  {
   "cell_type": "code",
   "execution_count": 26,
   "id": "c473b172",
   "metadata": {},
   "outputs": [
    {
     "data": {
      "text/plain": [
       "140634002853744"
      ]
     },
     "execution_count": 26,
     "metadata": {},
     "output_type": "execute_result"
    }
   ],
   "source": [
    "id(str(a))"
   ]
  },
  {
   "cell_type": "markdown",
   "id": "5b62a858",
   "metadata": {},
   "source": [
    "## Sequence Type"
   ]
  },
  {
   "cell_type": "code",
   "execution_count": 31,
   "id": "d94546a5",
   "metadata": {},
   "outputs": [],
   "source": [
    "# String\n",
    "# List\n",
    "# Tuple"
   ]
  },
  {
   "cell_type": "code",
   "execution_count": null,
   "id": "071be789",
   "metadata": {},
   "outputs": [],
   "source": [
    "# Loops\n",
    "# Membership"
   ]
  },
  {
   "cell_type": "code",
   "execution_count": 35,
   "id": "f6e257f9",
   "metadata": {},
   "outputs": [
    {
     "name": "stdout",
     "output_type": "stream",
     "text": [
      "J\n",
      "o\n",
      "h\n",
      "n\n",
      " \n",
      "D\n",
      "o\n",
      "e\n"
     ]
    }
   ],
   "source": [
    "name = \"John Doe\"\n",
    "for i in name:\n",
    "    print(i)"
   ]
  },
  {
   "cell_type": "code",
   "execution_count": 34,
   "id": "a1585a5e",
   "metadata": {},
   "outputs": [
    {
     "name": "stdout",
     "output_type": "stream",
     "text": [
      "John\n",
      "Raj\n",
      "Steven\n",
      "Umesh\n"
     ]
    }
   ],
   "source": [
    "name_in_list = [\"John\", \"Raj\", \"Steven\", \"Umesh\"]\n",
    "for i in name_in_list:\n",
    "    print(i)"
   ]
  },
  {
   "cell_type": "code",
   "execution_count": 37,
   "id": "65aad138",
   "metadata": {},
   "outputs": [
    {
     "name": "stdout",
     "output_type": "stream",
     "text": [
      "John\n",
      "Raj\n",
      "Umesh\n"
     ]
    }
   ],
   "source": [
    "for i in name_in_list:\n",
    "    if i == \"Steven\":\n",
    "        continue\n",
    "    print(i)"
   ]
  },
  {
   "cell_type": "code",
   "execution_count": 44,
   "id": "fcfad8fe",
   "metadata": {},
   "outputs": [
    {
     "data": {
      "text/plain": [
       "[(0, 'John'), (1, 'Raj'), (2, 'Steven'), (3, 'Umesh')]"
      ]
     },
     "execution_count": 44,
     "metadata": {},
     "output_type": "execute_result"
    }
   ],
   "source": [
    "list(enumerate(name_in_list))"
   ]
  },
  {
   "cell_type": "code",
   "execution_count": 42,
   "id": "874446fd",
   "metadata": {},
   "outputs": [
    {
     "name": "stdout",
     "output_type": "stream",
     "text": [
      "0 John\n"
     ]
    }
   ],
   "source": [
    "for index, value in enumerate(name_in_list):\n",
    "    if index%2 != 0:\n",
    "        break\n",
    "    print(index, value)"
   ]
  },
  {
   "cell_type": "code",
   "execution_count": 46,
   "id": "74148f5b",
   "metadata": {},
   "outputs": [],
   "source": [
    "name_in_tuple = (\"John\", \"Raj\", \"Steven\", \"Umesh\")"
   ]
  },
  {
   "cell_type": "code",
   "execution_count": 47,
   "id": "051a5d23",
   "metadata": {},
   "outputs": [
    {
     "data": {
      "text/plain": [
       "('John', 'Raj', 'Steven', 'Umesh')"
      ]
     },
     "execution_count": 47,
     "metadata": {},
     "output_type": "execute_result"
    }
   ],
   "source": [
    "name_in_tuple"
   ]
  },
  {
   "cell_type": "code",
   "execution_count": null,
   "id": "eede7c00",
   "metadata": {},
   "outputs": [],
   "source": [
    "a, b = 10, 20"
   ]
  },
  {
   "cell_type": "code",
   "execution_count": 45,
   "id": "098d560b",
   "metadata": {},
   "outputs": [
    {
     "data": {
      "text/plain": [
       "(10, 20)"
      ]
     },
     "execution_count": 45,
     "metadata": {},
     "output_type": "execute_result"
    }
   ],
   "source": [
    "10, 20"
   ]
  },
  {
   "cell_type": "code",
   "execution_count": null,
   "id": "3b2549c7",
   "metadata": {},
   "outputs": [],
   "source": [
    "### Membership"
   ]
  },
  {
   "cell_type": "code",
   "execution_count": 50,
   "id": "0ea0993f",
   "metadata": {},
   "outputs": [
    {
     "data": {
      "text/plain": [
       "'John Doe'"
      ]
     },
     "execution_count": 50,
     "metadata": {},
     "output_type": "execute_result"
    }
   ],
   "source": [
    "name"
   ]
  },
  {
   "cell_type": "code",
   "execution_count": 53,
   "id": "4d0a8302",
   "metadata": {},
   "outputs": [
    {
     "data": {
      "text/plain": [
       "True"
      ]
     },
     "execution_count": 53,
     "metadata": {},
     "output_type": "execute_result"
    }
   ],
   "source": [
    "\"John\" in name"
   ]
  },
  {
   "cell_type": "code",
   "execution_count": 52,
   "id": "093c44e5",
   "metadata": {},
   "outputs": [
    {
     "data": {
      "text/plain": [
       "False"
      ]
     },
     "execution_count": 52,
     "metadata": {},
     "output_type": "execute_result"
    }
   ],
   "source": [
    "\"Jo hn\" in name"
   ]
  },
  {
   "cell_type": "code",
   "execution_count": 54,
   "id": "4fc80f9e",
   "metadata": {},
   "outputs": [
    {
     "data": {
      "text/plain": [
       "False"
      ]
     },
     "execution_count": 54,
     "metadata": {},
     "output_type": "execute_result"
    }
   ],
   "source": [
    "\" John\" in name"
   ]
  },
  {
   "cell_type": "code",
   "execution_count": 55,
   "id": "08921433",
   "metadata": {},
   "outputs": [
    {
     "data": {
      "text/plain": [
       "False"
      ]
     },
     "execution_count": 55,
     "metadata": {},
     "output_type": "execute_result"
    }
   ],
   "source": [
    "\"john \" in name"
   ]
  },
  {
   "cell_type": "code",
   "execution_count": 56,
   "id": "02002f05",
   "metadata": {},
   "outputs": [
    {
     "data": {
      "text/plain": [
       "True"
      ]
     },
     "execution_count": 56,
     "metadata": {},
     "output_type": "execute_result"
    }
   ],
   "source": [
    "\"John \" in name"
   ]
  },
  {
   "cell_type": "code",
   "execution_count": 58,
   "id": "aed61c74",
   "metadata": {},
   "outputs": [
    {
     "data": {
      "text/plain": [
       "True"
      ]
     },
     "execution_count": 58,
     "metadata": {},
     "output_type": "execute_result"
    }
   ],
   "source": [
    "\"John\" in name_in_list"
   ]
  },
  {
   "cell_type": "code",
   "execution_count": 59,
   "id": "ed90d385",
   "metadata": {},
   "outputs": [
    {
     "data": {
      "text/plain": [
       "True"
      ]
     },
     "execution_count": 59,
     "metadata": {},
     "output_type": "execute_result"
    }
   ],
   "source": [
    "\"John\" in name_in_tuple"
   ]
  },
  {
   "cell_type": "code",
   "execution_count": null,
   "id": "b6c646fd",
   "metadata": {},
   "outputs": [],
   "source": [
    "### Slicing"
   ]
  },
  {
   "cell_type": "code",
   "execution_count": 60,
   "id": "755c12e8",
   "metadata": {},
   "outputs": [
    {
     "data": {
      "text/plain": [
       "'John Doe'"
      ]
     },
     "execution_count": 60,
     "metadata": {},
     "output_type": "execute_result"
    }
   ],
   "source": [
    "name"
   ]
  },
  {
   "cell_type": "code",
   "execution_count": 61,
   "id": "bf000b39",
   "metadata": {},
   "outputs": [
    {
     "data": {
      "text/plain": [
       "'John '"
      ]
     },
     "execution_count": 61,
     "metadata": {},
     "output_type": "execute_result"
    }
   ],
   "source": [
    "name[0:5]"
   ]
  },
  {
   "cell_type": "code",
   "execution_count": 68,
   "id": "b83aefb2",
   "metadata": {},
   "outputs": [
    {
     "data": {
      "text/plain": [
       "'John '"
      ]
     },
     "execution_count": 68,
     "metadata": {},
     "output_type": "execute_result"
    }
   ],
   "source": [
    "name[:5]"
   ]
  },
  {
   "cell_type": "code",
   "execution_count": 62,
   "id": "a36e1439",
   "metadata": {},
   "outputs": [
    {
     "data": {
      "text/plain": [
       "'Doe'"
      ]
     },
     "execution_count": 62,
     "metadata": {},
     "output_type": "execute_result"
    }
   ],
   "source": [
    "name[5:8]"
   ]
  },
  {
   "cell_type": "code",
   "execution_count": 69,
   "id": "d0eba6d0",
   "metadata": {},
   "outputs": [
    {
     "data": {
      "text/plain": [
       "'Doe'"
      ]
     },
     "execution_count": 69,
     "metadata": {},
     "output_type": "execute_result"
    }
   ],
   "source": [
    "name[5:]"
   ]
  },
  {
   "cell_type": "code",
   "execution_count": 70,
   "id": "234fe367",
   "metadata": {},
   "outputs": [
    {
     "data": {
      "text/plain": [
       "'John Doe'"
      ]
     },
     "execution_count": 70,
     "metadata": {},
     "output_type": "execute_result"
    }
   ],
   "source": [
    "name"
   ]
  },
  {
   "cell_type": "code",
   "execution_count": 64,
   "id": "abf2080d",
   "metadata": {},
   "outputs": [
    {
     "data": {
      "text/plain": [
       "'Do'"
      ]
     },
     "execution_count": 64,
     "metadata": {},
     "output_type": "execute_result"
    }
   ],
   "source": [
    "name[-3:-1]"
   ]
  },
  {
   "cell_type": "code",
   "execution_count": 66,
   "id": "ae3293d1",
   "metadata": {},
   "outputs": [
    {
     "data": {
      "text/plain": [
       "'Doe'"
      ]
     },
     "execution_count": 66,
     "metadata": {},
     "output_type": "execute_result"
    }
   ],
   "source": [
    "name[-3:]"
   ]
  },
  {
   "cell_type": "code",
   "execution_count": 72,
   "id": "3c5879ee",
   "metadata": {},
   "outputs": [
    {
     "data": {
      "text/plain": [
       "['John', 'Raj', 'Steven', 'Umesh']"
      ]
     },
     "execution_count": 72,
     "metadata": {},
     "output_type": "execute_result"
    }
   ],
   "source": [
    "name_in_list[:]"
   ]
  },
  {
   "cell_type": "code",
   "execution_count": 73,
   "id": "f763f6d3",
   "metadata": {},
   "outputs": [
    {
     "data": {
      "text/plain": [
       "['John', 'Raj', 'Steven']"
      ]
     },
     "execution_count": 73,
     "metadata": {},
     "output_type": "execute_result"
    }
   ],
   "source": [
    "name_in_list[0:3]"
   ]
  },
  {
   "cell_type": "code",
   "execution_count": 74,
   "id": "f9c76b92",
   "metadata": {},
   "outputs": [
    {
     "data": {
      "text/plain": [
       "['Steven', 'Umesh']"
      ]
     },
     "execution_count": 74,
     "metadata": {},
     "output_type": "execute_result"
    }
   ],
   "source": [
    "name_in_list[-2:]"
   ]
  },
  {
   "cell_type": "code",
   "execution_count": null,
   "id": "4e16849b",
   "metadata": {},
   "outputs": [],
   "source": []
  },
  {
   "cell_type": "code",
   "execution_count": null,
   "id": "6ab0e80b",
   "metadata": {},
   "outputs": [],
   "source": []
  }
 ],
 "metadata": {
  "kernelspec": {
   "display_name": "Python 3 (ipykernel)",
   "language": "python",
   "name": "python3"
  },
  "language_info": {
   "codemirror_mode": {
    "name": "ipython",
    "version": 3
   },
   "file_extension": ".py",
   "mimetype": "text/x-python",
   "name": "python",
   "nbconvert_exporter": "python",
   "pygments_lexer": "ipython3",
   "version": "3.8.10"
  }
 },
 "nbformat": 4,
 "nbformat_minor": 5
}
