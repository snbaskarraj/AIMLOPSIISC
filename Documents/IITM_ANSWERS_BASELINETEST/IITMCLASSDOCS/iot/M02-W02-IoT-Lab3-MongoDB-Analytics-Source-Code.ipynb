{
 "cells": [
  {
   "cell_type": "markdown",
   "metadata": {
    "id": "SbjdWact7ckZ"
   },
   "source": [
    "<img src=\"http://drive.google.com/uc?export=view&id=1tpOCamr9aWz817atPnyXus8w5gJ3mIts\" width=500px>\n",
    "\n",
    "Proprietary content. © Great Learning. All Rights Reserved. Unauthorized use or distribution prohibited."
   ]
  },
  {
   "cell_type": "markdown",
   "metadata": {
    "id": "_zdpDAvYKlCF"
   },
   "source": [
    "## <font color='blue'> Modifying data collection </font>"
   ]
  },
  {
   "cell_type": "markdown",
   "metadata": {
    "id": "jsU3AKkM7PUC"
   },
   "source": [
    "Config file `config_sub.json` for subscriber"
   ]
  },
  {
   "cell_type": "code",
   "execution_count": null,
   "metadata": {
    "id": "VVSIRVX87PUI"
   },
   "outputs": [],
   "source": [
    "{\n",
    "    \"broker_host\": \"localhost\",\n",
    "    \"broker_port\": 1883,\n",
    "\n",
    "    \"db_host\": \"localhost\",\n",
    "    \"db_port\": 27017,\n",
    "    \"db_name\": \"iot-db\",\n",
    "    \"db_collection\":\"iot-sensors-data-timestamped\"\n",
    "}"
   ]
  },
  {
   "cell_type": "markdown",
   "metadata": {
    "id": "exmdWD-m7PUJ"
   },
   "source": [
    "Source code `subscribe.py`"
   ]
  },
  {
   "cell_type": "code",
   "execution_count": null,
   "metadata": {
    "id": "NFdNRsZv7PUJ"
   },
   "outputs": [],
   "source": [
    "import paho.mqtt.client as mqtt\n",
    "import json\n",
    "import pymongo\n",
    "\n",
    "# Callback function - executed when the program successfully connects to the broker\n",
    "def on_connect(client, userdata, flags, rc):\n",
    "    print(\"Connected with result code \"+str(rc))\n",
    "    client.subscribe(\"devices/#\")\n",
    "\n",
    "#Callback function - executed when the program gracefully disconnects from the broker\n",
    "def on_disconnect(client, userdata, rc):\n",
    "    print(\"Disconnected with result code \"+str(rc))\n",
    "\n",
    "#Callback function - executed whenever a message is published to the topics that \n",
    "#this program is subscribed to\n",
    "def on_message(client, userdata, msg):\n",
    "    item = {\"topic\":msg.topic, \"payload\":msg.payload, \"timestamp\":json.loads(msg.payload)[\"timestamp\"]}\n",
    "    dbt.insert_one(item)\n",
    "    print(\"Received a messsage on \" + msg.topic + \" and inserted it to the DB\")\n",
    "\n",
    "#Defining an MQTT client object\n",
    "client = mqtt.Client()\n",
    "\n",
    "#Setting callback functions for various client operations\n",
    "client.on_connect = on_connect\n",
    "client.on_message = on_message\n",
    "client.on_disconnect = on_disconnect\n",
    "\n",
    "\n",
    "#Reading the configuration file\n",
    "f=open(\"config_sub.json\")\n",
    "config = json.loads(f.read())\n",
    "f.close()\n",
    "\n",
    "#Initializing connection to the database\n",
    "dbclient = pymongo.MongoClient(config[\"db_host\"], config[\"db_port\"])\n",
    "db = dbclient[config[\"db_name\"]]\n",
    "dbt = db[config[\"db_collection\"]]\n",
    "\n",
    "#Connecting to broker\n",
    "client.connect(host=config[\"broker_host\"], port=config[\"broker_port\"], keepalive=60)\n",
    "\n",
    "'''\n",
    "Start the MQTT client non-blocking loop to listen the broker for messages \n",
    "in subscribed topics and other operations for which the callback functions \n",
    "are defined\n",
    "'''\n",
    "client.loop_start()\n",
    "\n",
    "while True:\n",
    "    try:\n",
    "        pass\n",
    "    #Disconnect the client from MQTT broker and stop the loop gracefully at \n",
    "    # Keyboard interrupt (Ctrl+C)\n",
    "    except KeyboardInterrupt:\n",
    "        client.disconnect()\n",
    "        client.loop_stop()\n",
    "        break"
   ]
  },
  {
   "cell_type": "markdown",
   "metadata": {
    "id": "lbAfUgkMKlCI"
   },
   "source": [
    "Sample response:\n",
    "    \n",
    "```bash\n",
    "Received a messsage on devices/temp and inserted it to the DB\n",
    "Received a messsage on devices/temp and inserted it to the DB\n",
    "Received a messsage on devices/hum and inserted it to the DB\n",
    "Received a messsage on devices/hum and inserted it to the DB\n",
    "Received a messsage on devices/co2 and inserted it to the DB\n",
    "Received a messsage on devices/temp and inserted it to the DB\n",
    "Received a messsage on devices/temp and inserted it to the DB\n",
    "Received a messsage on devices/co2 and inserted it to the DB\n",
    "Received a messsage on devices/temp and inserted it to the DB\n",
    "Received a messsage on devices/temp and inserted it to the DB\n",
    "Received a messsage on devices/hum and inserted it to the DB\n",
    "```"
   ]
  },
  {
   "cell_type": "markdown",
   "metadata": {
    "id": "FVCnLIlaKlCI"
   },
   "source": [
    "Config file `config_pub.json` for publisher"
   ]
  },
  {
   "cell_type": "code",
   "execution_count": null,
   "metadata": {
    "id": "aFDIXdxDKlCI"
   },
   "outputs": [],
   "source": [
    "{\n",
    "    \"broker_host\": \"localhost\",\n",
    "    \"broker_port\": 1883,\n",
    "    \"devices\": [\n",
    "        {\n",
    "            \"type\": \"temperature\",\n",
    "            \"publish_frequency\": 5,\n",
    "            \"publish_topic\": \"devices/temp\",\n",
    "            \"std_val\": 25,\n",
    "            \"device_count\": 2\n",
    "        },\n",
    "        {\n",
    "            \"type\": \"humidity\",\n",
    "            \"publish_frequency\": 10,\n",
    "            \"publish_topic\": \"devices/hum\",\n",
    "            \"std_val\": 40,\n",
    "            \"device_count\": 2\n",
    "        },\n",
    "        {\n",
    "            \"type\": \"co2\",\n",
    "            \"publish_frequency\": 5,\n",
    "            \"publish_topic\": \"devices/co2\",\n",
    "            \"std_val\": 20,\n",
    "            \"device_count\": 1\n",
    "        }\n",
    "    ]\n",
    "}"
   ]
  },
  {
   "cell_type": "markdown",
   "metadata": {
    "id": "6bVpMzCqKlCJ"
   },
   "source": [
    "Source code `publish.py`"
   ]
  },
  {
   "cell_type": "code",
   "execution_count": null,
   "metadata": {
    "id": "J46O6vXbKlCJ"
   },
   "outputs": [],
   "source": [
    "import paho.mqtt.client as mqtt\n",
    "import json\n",
    "import time\n",
    "import datetime\n",
    "import numpy as np\n",
    "\n",
    "#Instantiating an object with mqtt\n",
    "client = mqtt.Client()\n",
    "\n",
    "# Callback function - executed when the program successfully connects to the broker\n",
    "def on_connect(client, userdata, flags, rc):\n",
    "    print(\"Connected with result code \"+str(rc))\n",
    "    client.subscribe(\"test\")\n",
    "\n",
    "#Callback function - executed when the program gracefully disconnects from the broker\n",
    "def on_disconnect(client, userdata, rc):\n",
    "    print(\"Disconnected with result code \"+str(rc))\n",
    "\n",
    "#Callback function - executed whenever a message is published to the topics that \n",
    "#this program is subscribed to\n",
    "def on_message(client, userdata, msg):\n",
    "    print(msg.topic,str(msg.payload), \"retain\", msg.retain, \"qos\", msg.qos, str(userdata) )\n",
    "\n",
    "\n",
    "#Setting callback functions for various client actions\n",
    "client.on_connect = on_connect\n",
    "client.on_message = on_message\n",
    "client.on_disconnect = on_disconnect\n",
    "\n",
    "\n",
    "\n",
    "# Reading the configuration file\n",
    "f=open(\"config_pub.json\")\n",
    "config = json.loads(f.read())\n",
    "f.close()\n",
    "\n",
    "# Initialising devices from the config.json file and assigning device_ids to each device\n",
    "device_config = []\n",
    "for devices in config['devices']:\n",
    "    for n in range(devices['device_count']):\n",
    "        dev = {}\n",
    "        dev['device_id'] = devices['type']+\"_\"+str(n)\n",
    "        dev['device_type'] = devices['type']\n",
    "        dev['publish_frequency'] = devices['publish_frequency']\n",
    "        dev['std_val'] = devices['std_val']\n",
    "        dev['publish_topic'] = devices['publish_topic']\n",
    "        device_config.append(dev)\n",
    "        \n",
    "        \n",
    "#Connecting to broker\n",
    "client.connect(host=config[\"broker_host\"], port=config[\"broker_port\"], keepalive=60)\n",
    "\n",
    "'''\n",
    "Start the MQTT client non-blocking loop to listen the broker for messages \n",
    "in subscribed topics and other operations for which the callback functions \n",
    "are defined\n",
    "'''\n",
    "client.loop_start()\n",
    "\n",
    "\n",
    "clock=0\n",
    "while True:\n",
    "    try:\n",
    "        time.sleep(1) \n",
    "        clock = clock+1\n",
    "        for devices in device_config:\n",
    "            if clock%devices['publish_frequency']==0:\n",
    "                print(\"Published to devices/\"+devices[\"device_type\"])\n",
    "                \n",
    "                #Initialize a dictionary to be sent as publish message\n",
    "                message = {}\n",
    "                \n",
    "                #Generate timestamp in YYYY-MM-DD HH:MM:SS format\n",
    "                prevday_timestamp = datetime.datetime.now() - datetime.timedelta(days=1)\n",
    "                message[\"timestamp\"] = prevday_timestamp.strftime(\"%Y-%m-%dT%H:%M:%SZ\")\n",
    "                message[\"device_id\"] = devices[\"device_id\"]\n",
    "                message[\"device_type\"] = devices[\"device_type\"]\n",
    "                message[\"value\"] = round(np.random.normal(devices[\"std_val\"],2),2)\n",
    "                #Publish the message\n",
    "                client.publish(devices[\"publish_topic\"], json.dumps(message))\n",
    "        \n",
    "    #Disconnect the client from MQTT broker and stop the loop gracefully at Keyboard interrupt (Ctrl+C)\n",
    "    except KeyboardInterrupt:\n",
    "        client.disconnect()\n",
    "        client.loop_stop()\n",
    "        break\n"
   ]
  },
  {
   "cell_type": "markdown",
   "metadata": {
    "id": "9o5d4jwTKlCJ"
   },
   "source": [
    "Source code to Check the DB collection `viewdb.py`"
   ]
  },
  {
   "cell_type": "code",
   "execution_count": null,
   "metadata": {
    "id": "CAgrvdNUKlCK"
   },
   "outputs": [],
   "source": [
    "import pymongo\n",
    "import json\n",
    "\n",
    "#Reading the configuration file\n",
    "f=open(\"config_sub.json\")\n",
    "config = json.loads(f.read())\n",
    "f.close()\n",
    "\n",
    "#Initializing connection to the database\n",
    "dbclient = pymongo.MongoClient(config[\"db_host\"], config[\"db_port\"])\n",
    "db = dbclient[config[\"db_name\"]]\n",
    "dbt = db[config[\"db_collection\"]]\n",
    "\n",
    "#Querying for the messages that were published to the `devices/temp` topic, on 01 Jan 2021 \n",
    "entries = dbt.find({\"topic\":\"devices/temp\", \\\n",
    "                    \"timestamp\":  {\"$gte\": \"2021-01-01T00:00:00.000Z\", \\\n",
    "                                   \"$lt\" : \"2021-01-02T00:00:00.000Z\"}})\n",
    "\n",
    "#Print the entries\n",
    "for entry in entries:\n",
    "    print(entry)"
   ]
  },
  {
   "cell_type": "markdown",
   "metadata": {
    "id": "K_ZlspUuKlCL"
   },
   "source": [
    "Sample response:\n",
    "\n",
    "``` json\n",
    "{'_id': ObjectId('60017cdfcb163953b3e92b45'), 'topic': 'devices/temp', 'payload': '{\"timestamp\": \"2021-01-15 17:00:39\", \"value\": 23.69, \"device_type\": \"temperature\", \"device_id\": \"temperature_0\"}'}\n",
    "{'_id': ObjectId('60017cdfcb163953b3e92b46'), 'topic': 'devices/temp', 'payload': '{\"timestamp\": \"2021-01-15 17:00:39\", \"value\": 26.7, \"device_type\": \"temperature\", \"device_id\": \"temperature_1\"}'}\n",
    "{'_id': ObjectId('60017ce4cb163953b3e92b4a'), 'topic': 'devices/temp', 'payload': '{\"timestamp\": \"2021-01-15 17:00:44\", \"value\": 25.35, \"device_type\": \"temperature\", \"device_id\": \"temperature_0\"}'}\n",
    "{'_id': ObjectId('60017ce4cb163953b3e92b4b'), 'topic': 'devices/temp', 'payload': '{\"timestamp\": \"2021-01-15 17:00:44\", \"value\": 25.48, \"device_type\": \"temperature\", \"device_id\": \"temperature_1\"}'}\n",
    "{'_id': ObjectId('60017ce9cb163953b3e92b4d'), 'topic': 'devices/temp', 'payload': '{\"timestamp\": \"2021-01-15 17:00:49\", \"value\": 26.76, \"device_type\": \"temperature\", \"device_id\": \"temperature_0\"}'}\n",
    "{'_id': ObjectId('60017ce9cb163953b3e92b4e'), 'topic': 'devices/temp', 'payload': '{\"timestamp\": \"2021-01-15 17:00:49\", \"value\": 26.93, \"device_type\": \"temperature\", \"device_id\": \"temperature_1\"}'}\n",
    "```"
   ]
  },
  {
   "cell_type": "markdown",
   "metadata": {
    "id": "wUUq3uuCKlCL"
   },
   "source": [
    "## <font color='blue'>Flattening the objects</font>\n",
    "\n",
    "Source code `flatten.py`"
   ]
  },
  {
   "cell_type": "code",
   "execution_count": null,
   "metadata": {
    "id": "-UVHld5iKlCL"
   },
   "outputs": [],
   "source": [
    "import datetime\n",
    "import pymongo\n",
    "import json\n",
    "\n",
    "today = datetime.date.today()                        # datetime.date(2021, 1, 15)\n",
    "prevday = today-datetime.timedelta(days=1)           #datetime.date(2021, 1, 14)\n",
    "prevday = prevday.strftime(\"%Y-%m-%dT00:00:00Z\")   #'2021-01-14T00:00:00Z'\n",
    "today = today.strftime(\"%Y-%m-%dT00:00:00Z\")         #'2021-01-15T00:00:00Z'\n",
    "\n",
    "#Initializing connection to the database\n",
    "dbclient = pymongo.MongoClient(\"localhost\", 27017)\n",
    "db = dbclient[\"iot-db\"]\n",
    "dbt = db[\"iot-sensors-data-timestamped\"]\n",
    "\n",
    "#Querying for the messages that were published the previous day\n",
    "prevday_entries = dbt.find({\"timestamp\":  {\"$gte\": prevday, \"$lt\" : today}})\n",
    "\n",
    "# Define the collection to store previous day entries\n",
    "pde_flattened = db[\"iot-sensors-data-flattened\"]\n",
    "\n",
    "# Iterate through every datapoint\n",
    "for entry in prevday_entries:\n",
    "    # Load the value of payload field as json\n",
    "    payload = json.loads(entry[\"payload\"])\n",
    "    \n",
    "    #Iterate through every field in the payload and add it to the datapoint\n",
    "    for field in payload:\n",
    "        entry[field] = payload[field]\n",
    "    \n",
    "    # Delete the payload field since it has been flattened\n",
    "    del entry[\"payload\"]\n",
    "    \n",
    "    # Insert the flattened datapoint to collection\n",
    "    pde_flattened.insert_one(entry)"
   ]
  },
  {
   "cell_type": "markdown",
   "metadata": {
    "id": "8-dZnRUDKlCM"
   },
   "source": [
    "## <font color='blue'>Devices list</font>\n",
    "\n",
    "Source code `add_devices.py`"
   ]
  },
  {
   "cell_type": "code",
   "execution_count": null,
   "metadata": {
    "id": "Le4egbcoKlCM"
   },
   "outputs": [],
   "source": [
    "import pymongo\n",
    "import json\n",
    "\n",
    "# Initializing connection to the database\n",
    "dbclient = pymongo.MongoClient(\"localhost\", 27017)\n",
    "db = dbclient[\"iot-db\"]\n",
    "pde_flattened = db[\"iot-sensors-data-flattened\"]\n",
    "\n",
    "entries = pde_flattened.find()\n",
    "\n",
    "# Loading the devices list from collection\n",
    "db_devices_list = db[\"iot-devices-list\"]\n",
    "devices = db_devices_list.find()\n",
    "\n",
    "# Extracting the device_ids in a list\n",
    "existing_devices = []\n",
    "for device in devices:\n",
    "    existing_devices.append(device[\"device_id\"])\n",
    "    \n",
    "# Iterate through each entry from previous day's objects and add new devices to the collection\n",
    "for entry in entries:\n",
    "    if entry[\"device_id\"] not in existing_devices:\n",
    "        db_devices_list.insert_one({\"device_id\":entry[\"device_id\"], \"device_type\":entry[\"device_type\"]})\n",
    "        existing_devices.append(entry[\"device_id\"])"
   ]
  },
  {
   "cell_type": "markdown",
   "metadata": {
    "id": "Pf5uCC3rKlCM"
   },
   "source": [
    "Source code `list_devices.py`"
   ]
  },
  {
   "cell_type": "code",
   "execution_count": null,
   "metadata": {
    "id": "ekcachmqKlCM"
   },
   "outputs": [],
   "source": [
    "import pymongo\n",
    "import json\n",
    "\n",
    "#Initializing connection to the database\n",
    "dbclient = pymongo.MongoClient(\"localhost\", 27017)\n",
    "db = dbclient[\"iot-db\"]\n",
    "db_devices_list = db[\"iot-devices-list\"]\n",
    "\n",
    "#Loading the devices list\n",
    "entries = db_devices_list.find()\n",
    "\n",
    "for entry in entries:\n",
    "    print(\"Device ID: \" + entry[\"device_id\"] + \" | Device Type: \" + entry[\"device_type\"])"
   ]
  },
  {
   "cell_type": "markdown",
   "metadata": {
    "id": "fUuwgBHTKlCM"
   },
   "source": [
    "Output:\n",
    "\n",
    "```\n",
    "Device ID: temperature_0 | Device Type: temperature\n",
    "Device ID: temperature_1 | Device Type: temperature\n",
    "Device ID: co2_0 | Device Type: co2\n",
    "Device ID: humidity_0 | Device Type: humidity\n",
    "Device ID: humidity_1 | Device Type: humidity\n",
    "```"
   ]
  },
  {
   "cell_type": "markdown",
   "metadata": {
    "id": "J1u5RP8QKlCM"
   },
   "source": [
    "## <font color='blue'>Calculating the aggregate</font>\n",
    "\n",
    "Source code `summarize.py`"
   ]
  },
  {
   "cell_type": "code",
   "execution_count": null,
   "metadata": {
    "id": "jSZ-tKLeKlCN"
   },
   "outputs": [],
   "source": [
    "import pymongo\n",
    "import json\n",
    "\n",
    "#Initializing connection to the database and fetching the list of devices\n",
    "dbclient = pymongo.MongoClient(\"localhost\", 27017)\n",
    "db = dbclient[\"iot-db\"]\n",
    "db_devices_list = db[\"iot-devices-list\"]\n",
    "devices = db_devices_list.find()\n",
    "\n",
    "# Initializing a *values* list to capture data from previous day's entries\n",
    "values= {}\n",
    "for device in devices:\n",
    "    values[device[\"device_id\"]] = {}\n",
    "    values[device[\"device_id\"]][\"values\"] = []\n",
    "    \n",
    "# Fetching the previous day iot-devices data\n",
    "pde_flattened = db[\"iot-sensors-data-flattened\"]\n",
    "entries = pde_flattened.find()\n",
    "\n",
    "# Adding the iot devices data to the appropriate device_id list\n",
    "for entry in entries:\n",
    "    values[entry[\"device_id\"]][\"values\"].append(entry[\"value\"])\n",
    "    \n",
    "# Fetch the list of devices\n",
    "devices = db_devices_list.find()\n",
    "\n",
    "# Iterate through devices list and calculate the min, max and aggregate\n",
    "for device in devices:\n",
    "    values[device[\"device_id\"]][\"min_value\"] = min(values[device[\"device_id\"]][\"values\"])\n",
    "    values[device[\"device_id\"]][\"max_value\"] = max(values[device[\"device_id\"]][\"values\"])\n",
    "    values[device[\"device_id\"]][\"count\"] = len(values[device[\"device_id\"]][\"values\"])\n",
    "    values[device[\"device_id\"]][\"agg_value\"] = round(sum(values[device[\"device_id\"]][\"values\"])\\\n",
    "        /values[device[\"device_id\"]][\"count\"],2)\n",
    "    values[device[\"device_id\"]][\"device_type\"] = device[\"device_type\"]\n",
    "    # Delete the raw values as we don't need it in the daily summary\n",
    "    del values[device[\"device_id\"]][\"values\"]\n",
    "    \n",
    "# Calculate previous day's day in YYYY-MM-DD format\n",
    "import datetime\n",
    "previousday = datetime.date.today() - datetime.timedelta(days=1)\n",
    "previousday = previousday.strftime(\"%Y-%m-%d\")\n",
    "\n",
    "# Insert the summary into the *daily-summary* collection\n",
    "dailysummary = db[\"daily-summary\"]\n",
    "dailysummary.insert_one({\"date\": previousday, \"devices\": values})"
   ]
  },
  {
   "cell_type": "markdown",
   "metadata": {
    "id": "_TsWjvR1KlCN"
   },
   "source": [
    "Source code `daily_summary.py`"
   ]
  },
  {
   "cell_type": "code",
   "execution_count": null,
   "metadata": {
    "id": "sCrWTo1oKlCN"
   },
   "outputs": [],
   "source": [
    "import pymongo\n",
    "import json\n",
    "\n",
    "#Initializing connection to the database\n",
    "dbclient = pymongo.MongoClient(\"localhost\", 27017)\n",
    "db = dbclient[\"iot-db\"]\n",
    "dailysummary = db[\"daily-summary\"]\n",
    "\n",
    "# Fetch the daily Summary and print it\n",
    "summaries = dailysummary.find()\n",
    "for day in summaries:\n",
    "    print(\"Date: \" + day[\"date\"])\n",
    "    print (\"Device\\t\\t Device Type\\t Min Val\\t Max Val\\t Count\\t Aggregate\")\n",
    "    for device in day[\"devices\"]:\n",
    "        print(device, \"\\t\", \\\n",
    "            day[\"devices\"][device][\"device_type\"], \"\\t\", \\\n",
    "            day[\"devices\"][device][\"min_value\"], \"\\t\", \\\n",
    "            day[\"devices\"][device][\"max_value\"], \"\\t\", \\\n",
    "            day[\"devices\"][device][\"count\"], \"\\t\", \\\n",
    "            day[\"devices\"][device][\"agg_value\"]\n",
    "        )"
   ]
  },
  {
   "cell_type": "markdown",
   "metadata": {
    "id": "DvFxPNp2KlCN"
   },
   "source": [
    "Output:\n",
    "\n",
    "```\n",
    "Date: 2021-01-14\n",
    "Device           Device Type     Min Val         Max Val         Count   Aggregate\n",
    "temperature_0    temperature     23.46   26.76   3       25.27\n",
    "temperature_1    temperature     25.24   30.13   3       27.1\n",
    "co2_0    co2     16.58   21.82   3       19.93\n",
    "humidity_0       humidity        38.3    38.3    1       38.3\n",
    "humidity_1       humidity        42.2    42.2    1       42.2\n",
    "\n",
    "Date: 2021-01-15\n",
    "Device           Device Type     Min Val         Max Val         Count   Aggregate\n",
    "temperature_0    temperature     23.46   26.76   3       25.27\n",
    "temperature_1    temperature     25.24   30.13   3       27.1\n",
    "co2_0    co2     16.58   21.82   3       19.93\n",
    "humidity_0       humidity        38.3    38.3    1       38.3\n",
    "humidity_1       humidity        42.2    42.2    1       42.2\n",
    "\n",
    "```"
   ]
  },
  {
   "cell_type": "markdown",
   "metadata": {
    "id": "wbPacw2-KlCN"
   },
   "source": [
    "## <font color='blue'>Creating alerts</font>\n",
    "\n",
    "Config file `alerts_config.json`"
   ]
  },
  {
   "cell_type": "code",
   "execution_count": null,
   "metadata": {
    "id": "CPhF1Ee6KlCN"
   },
   "outputs": [],
   "source": [
    "{\n",
    "    \"temperature\": 28,\n",
    "    \"humidity\": 40,\n",
    "    \"co2\": 20\n",
    "}"
   ]
  },
  {
   "cell_type": "markdown",
   "metadata": {
    "id": "xL0EeR2CKlCN"
   },
   "source": [
    "Source file `alerts.py`"
   ]
  },
  {
   "cell_type": "code",
   "execution_count": null,
   "metadata": {
    "id": "iq5EKWvcKlCN"
   },
   "outputs": [],
   "source": [
    "import pymongo\n",
    "import datetime\n",
    "import json\n",
    "\n",
    "# Initializing connection to the database\n",
    "dbclient = pymongo.MongoClient(\"localhost\", 27017)\n",
    "db = dbclient[\"iot-db\"]\n",
    "dailysummary = db[\"daily-summary\"]\n",
    "\n",
    "\n",
    "previousday = datetime.date.today() - datetime.timedelta(days=1)\n",
    "previousday = previousday.strftime(\"%Y-%m-%d\")\n",
    "\n",
    "# Querying for the objects that were published on the previous day\n",
    "entries = dailysummary.find({\"date\": previousday})\n",
    "\n",
    "# Extract the devices summary from the object\n",
    "devices = entries[0][\"devices\"]\n",
    "\n",
    "# Read the alert rules\n",
    "alerts_config_file=open('alerts_config.json')\n",
    "alerts_config = json.loads(alerts_config_file.read())\n",
    "alerts_config_file.close()\n",
    "\n",
    "# Iterating through each rule and printing an alert when devices value is over the threshold\n",
    "for rule in alerts_config:\n",
    "    for device in devices:\n",
    "        if(devices[device][\"device_type\"]==rule):\n",
    "            if(devices[device][\"max_value\"]>alerts_config[rule]):\n",
    "                print(device + \" has its max value beyond the threshold value on \" + previousday)"
   ]
  },
  {
   "cell_type": "markdown",
   "metadata": {
    "id": "vEu7j-wZKlCO"
   },
   "source": [
    "Output:\n",
    "```\n",
    "temperature_1 has its max value beyond the threshold on 2021-01-14\n",
    "humidity_1 has its max value beyond the threshold on 2021-01-14\n",
    "co2_0 has its max value beyond the threshold on 2021-01-14\n",
    "```"
   ]
  }
 ],
 "metadata": {
  "colab": {
   "name": "Copy of M02-W03-IoT-Lab3-MongoDB-analytics-Source-Code.ipynb",
   "provenance": [
    {
     "file_id": "1AwtVyETQIBOKMRs_1nW3jE1WMXyk9hDi",
     "timestamp": 1611370758382
    }
   ]
  },
  "kernelspec": {
   "display_name": "Python 3",
   "language": "python",
   "name": "python3"
  },
  "language_info": {
   "codemirror_mode": {
    "name": "ipython",
    "version": 3
   },
   "file_extension": ".py",
   "mimetype": "text/x-python",
   "name": "python",
   "nbconvert_exporter": "python",
   "pygments_lexer": "ipython3",
   "version": "3.8.5"
  }
 },
 "nbformat": 4,
 "nbformat_minor": 1
}
