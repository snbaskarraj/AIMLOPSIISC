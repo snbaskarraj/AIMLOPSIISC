{
 "cells": [
  {
   "cell_type": "markdown",
   "metadata": {
    "id": "SbjdWact7ckZ"
   },
   "source": [
    "<img src=\"http://drive.google.com/uc?export=view&id=1tpOCamr9aWz817atPnyXus8w5gJ3mIts\" width=500px>\n",
    "\n",
    "Proprietary content. © Great Learning. All Rights Reserved. Unauthorized use or distribution prohibited."
   ]
  },
  {
   "cell_type": "markdown",
   "metadata": {
    "id": "jsU3AKkM7PUC"
   },
   "source": [
    "Config file `config.json`"
   ]
  },
  {
   "cell_type": "code",
   "execution_count": null,
   "metadata": {
    "id": "VVSIRVX87PUI"
   },
   "outputs": [],
   "source": [
    "{\n",
    "    \"broker_host\": \"localhost\",\n",
    "    \"broker_port\": 1883,\n",
    "    \"devices\": [\n",
    "        {\n",
    "            \"type\": \"temperature\",\n",
    "            \"publish_frequency\": 5,\n",
    "            \"publish_topic\": \"devices/temp\",\n",
    "            \"std_val\": 25,\n",
    "            \"device_count\": 2\n",
    "        },\n",
    "        {\n",
    "            \"type\": \"humidity\",\n",
    "            \"publish_frequency\": 10,\n",
    "            \"publish_topic\": \"devices/hum\",\n",
    "            \"std_val\": 40,\n",
    "            \"device_count\": 2\n",
    "        },\n",
    "        {\n",
    "            \"type\": \"co2\",\n",
    "            \"publish_frequency\": 5,\n",
    "            \"publish_topic\": \"devices/co2\",\n",
    "            \"std_val\": 20,\n",
    "            \"device_count\": 1\n",
    "        }\n",
    "    ]\n",
    "}"
   ]
  },
  {
   "cell_type": "markdown",
   "metadata": {
    "id": "exmdWD-m7PUJ"
   },
   "source": [
    "Source code `publish_simulator.py`"
   ]
  },
  {
   "cell_type": "code",
   "execution_count": null,
   "metadata": {
    "id": "NFdNRsZv7PUJ"
   },
   "outputs": [],
   "source": [
    "import paho.mqtt.client as mqtt\n",
    "import time\n",
    "import json\n",
    "import numpy as np\n",
    "import datetime\n",
    "    \n",
    "# Callback function - executed when the program successfully connects to the broker\n",
    "def on_connect(client, userdata, flags, rc):\n",
    "    print(\"Connected with result code \"+str(rc))\n",
    "    client.subscribe(\"test\")\n",
    "\n",
    "#Callback function - executed when the program gracefully disconnects from the broker\n",
    "def on_disconnect(client, userdata, rc):\n",
    "    print(\"Disconnected with result code \"+str(rc))\n",
    "\n",
    "#Callback function - executed whenever a message is published to the topics that \n",
    "#this program is subscribed to\n",
    "def on_message(client, userdata, msg):\n",
    "    print(msg.topic,str(msg.payload), \"retain\", msg.retain, \"qos\", msg.qos, str(userdata) )\n",
    "\n",
    "#Defining an MQTT client object\n",
    "client = mqtt.Client()\n",
    "\n",
    "#Setting callback functions for various client operations\n",
    "client.on_connect = on_connect\n",
    "client.on_message = on_message\n",
    "client.on_disconnect = on_disconnect\n",
    "\n",
    "#Reading the configuration file\n",
    "f=open(\"config.json\")\n",
    "config = json.loads(f.read())\n",
    "f.close()\n",
    "\n",
    "# Initialising devices from the config.json file and assigning device_ids to each device\n",
    "device_config = []\n",
    "for devices in config['devices']:\n",
    "    for n in range(devices['device_count']):\n",
    "        dev = {}\n",
    "        dev['device_id'] = devices['type']+\"_\"+str(n)\n",
    "        dev['device_type'] = devices['type']\n",
    "        dev['publish_frequency'] = devices['publish_frequency']\n",
    "        dev['std_val'] = devices['std_val']\n",
    "        dev['publish_topic'] = devices['publish_topic']\n",
    "        device_config.append(dev)\n",
    "\n",
    "\n",
    "#Connecting to broker\n",
    "client.connect(host=config[\"broker_host\"], port=config[\"broker_port\"], keepalive=60)\n",
    "\n",
    "'''\n",
    "Start the MQTT client non-blocking loop to listen the broker for messages \n",
    "in subscribed topics and other operations for which the callback functions \n",
    "are defined\n",
    "'''\n",
    "client.loop_start()\n",
    "\n",
    "clock=0\n",
    "while True:\n",
    "    try:\n",
    "        # Iterating through the items in device configuration dictionary, every second\n",
    "        time.sleep(1) \n",
    "        clock = clock+1\n",
    "        for devices in device_config:\n",
    "            if clock%devices['publish_frequency']==0:\n",
    "                print(\"Published to devices/\"+devices[\"device_type\"])\n",
    "                #Initialize a dictionary to be sent as publish message\n",
    "                message = {}\n",
    "                #Generate timestamp in YYYY-MM-DD HH:MM:SS format\n",
    "                message[\"timestamp\"] = datetime.datetime.now().strftime(\"%Y-%m-%d %H:%M:%S\")\n",
    "                message[\"device_id\"] = devices[\"device_id\"]\n",
    "                message[\"device_type\"] = devices[\"device_type\"]\n",
    "                #Generate a random value using normal distribution function of the \n",
    "                # configured standard value for the given device type\n",
    "                message[\"value\"] = round(np.random.normal(devices[\"std_val\"],2),2)\n",
    "                #Publish the message\n",
    "                client.publish(devices[\"publish_topic\"], json.dumps(message))\n",
    "    #Disconnect the client from MQTT broker and stop the loop gracefully at \n",
    "    # Keyboard interrupt (Ctrl+C)\n",
    "    except KeyboardInterrupt:\n",
    "        client.disconnect()\n",
    "        client.loop_stop()\n",
    "        break"
   ]
  }
 ],
 "metadata": {
  "colab": {
   "name": "M02-W01-IoT-Lab1-MQTT-Source-Code.ipynb",
   "provenance": []
  },
  "kernelspec": {
   "display_name": "Python 3",
   "language": "python",
   "name": "python3"
  },
  "language_info": {
   "codemirror_mode": {
    "name": "ipython",
    "version": 3
   },
   "file_extension": ".py",
   "mimetype": "text/x-python",
   "name": "python",
   "nbconvert_exporter": "python",
   "pygments_lexer": "ipython3",
   "version": "3.8.5"
  }
 },
 "nbformat": 4,
 "nbformat_minor": 4
}
