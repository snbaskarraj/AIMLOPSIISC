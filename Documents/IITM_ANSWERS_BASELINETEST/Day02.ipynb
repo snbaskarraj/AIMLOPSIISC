{
 "cells": [
  {
   "cell_type": "markdown",
   "id": "2e29b3a9",
   "metadata": {},
   "source": [
    "# OOPS"
   ]
  },
  {
   "cell_type": "code",
   "execution_count": 43,
   "id": "3a03017e",
   "metadata": {},
   "outputs": [],
   "source": [
    "class Vehicle:\n",
    "    current_speed = 0\n",
    "    top_speed = 10\n",
    "    \n",
    "    def acceleration(self):\n",
    "        if self.current_speed < self.top_speed:\n",
    "            self.current_speed += 5\n",
    "        else:\n",
    "            print(\"Can't accelerate\")\n",
    "    \n",
    "    def retardation(self):\n",
    "        if self.current_speed > 5:\n",
    "            self.current_speed -= 5\n",
    "        else:\n",
    "            print(\"Can't reduce the speed\")"
   ]
  },
  {
   "cell_type": "code",
   "execution_count": 44,
   "id": "a39fb8d2",
   "metadata": {},
   "outputs": [],
   "source": [
    "class Car(Vehicle):\n",
    "    __top_speed = 15\n",
    "    \n",
    "    def __init__(self):\n",
    "#         super().__init__()\n",
    "        print(\"Car class initiated\", super(Vehicle).top_speed)"
   ]
  },
  {
   "cell_type": "code",
   "execution_count": null,
   "id": "f7c13489",
   "metadata": {},
   "outputs": [],
   "source": []
  },
  {
   "cell_type": "code",
   "execution_count": null,
   "id": "9026561d",
   "metadata": {},
   "outputs": [],
   "source": [
    "Vehicle = 10,\n",
    "Car = 15"
   ]
  },
  {
   "cell_type": "markdown",
   "id": "173fb09d",
   "metadata": {},
   "source": [
    "### Way 1"
   ]
  },
  {
   "cell_type": "code",
   "execution_count": 45,
   "id": "34885e49",
   "metadata": {},
   "outputs": [],
   "source": [
    "class BMW(Car):\n",
    "    pass"
   ]
  },
  {
   "cell_type": "code",
   "execution_count": 46,
   "id": "6616156a",
   "metadata": {},
   "outputs": [
    {
     "name": "stdout",
     "output_type": "stream",
     "text": [
      "Car class initiated 10\n"
     ]
    }
   ],
   "source": [
    "bmw = BMW()"
   ]
  },
  {
   "cell_type": "code",
   "execution_count": 31,
   "id": "ab49f961",
   "metadata": {},
   "outputs": [
    {
     "data": {
      "text/plain": [
       "15"
      ]
     },
     "execution_count": 31,
     "metadata": {},
     "output_type": "execute_result"
    }
   ],
   "source": [
    "bmw.top_speed # 15 or 10"
   ]
  },
  {
   "cell_type": "code",
   "execution_count": null,
   "id": "90825cfb",
   "metadata": {},
   "outputs": [],
   "source": []
  },
  {
   "cell_type": "markdown",
   "id": "151eb17c",
   "metadata": {},
   "source": [
    "### Way 2"
   ]
  },
  {
   "cell_type": "markdown",
   "id": "8685d837",
   "metadata": {},
   "source": [
    "#### Multiple Inheritance"
   ]
  },
  {
   "cell_type": "code",
   "execution_count": 42,
   "id": "f42afe78",
   "metadata": {},
   "outputs": [
    {
     "ename": "SyntaxError",
     "evalue": "unexpected EOF while parsing (2244872603.py, line 2)",
     "output_type": "error",
     "traceback": [
      "\u001b[0;36m  Input \u001b[0;32mIn [42]\u001b[0;36m\u001b[0m\n\u001b[0;31m    \u001b[0m\n\u001b[0m    ^\u001b[0m\n\u001b[0;31mSyntaxError\u001b[0m\u001b[0;31m:\u001b[0m unexpected EOF while parsing\n"
     ]
    }
   ],
   "source": [
    "class BMW(Vehicle, Car):\n",
    "    pass"
   ]
  },
  {
   "cell_type": "markdown",
   "id": "05b8f832",
   "metadata": {},
   "source": [
    "### calling init method"
   ]
  },
  {
   "cell_type": "code",
   "execution_count": 37,
   "id": "08d2f5c3",
   "metadata": {},
   "outputs": [
    {
     "name": "stdout",
     "output_type": "stream",
     "text": [
      "Car class initiated\n"
     ]
    }
   ],
   "source": [
    "bmw = BMW()"
   ]
  },
  {
   "cell_type": "code",
   "execution_count": 38,
   "id": "a4c1a091",
   "metadata": {},
   "outputs": [
    {
     "data": {
      "text/plain": [
       "10"
      ]
     },
     "execution_count": 38,
     "metadata": {},
     "output_type": "execute_result"
    }
   ],
   "source": [
    "bmw.top_speed # 15 or 10"
   ]
  },
  {
   "cell_type": "code",
   "execution_count": 39,
   "id": "bd71ef75",
   "metadata": {},
   "outputs": [
    {
     "ename": "AttributeError",
     "evalue": "'BMW' object has no attribute 'someRandomVariable'",
     "output_type": "error",
     "traceback": [
      "\u001b[0;31m---------------------------------------------------------------------------\u001b[0m",
      "\u001b[0;31mAttributeError\u001b[0m                            Traceback (most recent call last)",
      "Input \u001b[0;32mIn [39]\u001b[0m, in \u001b[0;36m<cell line: 1>\u001b[0;34m()\u001b[0m\n\u001b[0;32m----> 1\u001b[0m \u001b[43mbmw\u001b[49m\u001b[38;5;241;43m.\u001b[39;49m\u001b[43msomeRandomVariable\u001b[49m\n",
      "\u001b[0;31mAttributeError\u001b[0m: 'BMW' object has no attribute 'someRandomVariable'"
     ]
    }
   ],
   "source": [
    "bmw.someRandomVariable"
   ]
  },
  {
   "cell_type": "code",
   "execution_count": 5,
   "id": "0a33a736",
   "metadata": {},
   "outputs": [],
   "source": [
    "audi = Car()"
   ]
  },
  {
   "cell_type": "code",
   "execution_count": 6,
   "id": "fa83acf7",
   "metadata": {},
   "outputs": [
    {
     "data": {
      "text/plain": [
       "0"
      ]
     },
     "execution_count": 6,
     "metadata": {},
     "output_type": "execute_result"
    }
   ],
   "source": [
    "audi.current_speed"
   ]
  },
  {
   "cell_type": "code",
   "execution_count": 7,
   "id": "808047fc",
   "metadata": {},
   "outputs": [],
   "source": [
    "bwm.top_speed = 25"
   ]
  },
  {
   "cell_type": "code",
   "execution_count": 8,
   "id": "fc437b5c",
   "metadata": {},
   "outputs": [],
   "source": [
    "audi.top_speed = 15"
   ]
  },
  {
   "cell_type": "code",
   "execution_count": 9,
   "id": "657ce990",
   "metadata": {},
   "outputs": [],
   "source": [
    "bwm.acceleration()"
   ]
  },
  {
   "cell_type": "code",
   "execution_count": 11,
   "id": "5b7828fb",
   "metadata": {},
   "outputs": [
    {
     "data": {
      "text/plain": [
       "5"
      ]
     },
     "execution_count": 11,
     "metadata": {},
     "output_type": "execute_result"
    }
   ],
   "source": [
    "bwm.current_speed"
   ]
  },
  {
   "cell_type": "code",
   "execution_count": 12,
   "id": "c1aa582d",
   "metadata": {},
   "outputs": [
    {
     "data": {
      "text/plain": [
       "0"
      ]
     },
     "execution_count": 12,
     "metadata": {},
     "output_type": "execute_result"
    }
   ],
   "source": [
    "audi.current_speed"
   ]
  },
  {
   "cell_type": "code",
   "execution_count": 13,
   "id": "ba46a8da",
   "metadata": {},
   "outputs": [],
   "source": [
    "bwm.acceleration()\n",
    "bwm.acceleration()\n",
    "bwm.acceleration()\n",
    "bwm.acceleration()"
   ]
  },
  {
   "cell_type": "code",
   "execution_count": 14,
   "id": "a8b93b38",
   "metadata": {},
   "outputs": [
    {
     "data": {
      "text/plain": [
       "25"
      ]
     },
     "execution_count": 14,
     "metadata": {},
     "output_type": "execute_result"
    }
   ],
   "source": [
    "bwm.current_speed"
   ]
  },
  {
   "cell_type": "code",
   "execution_count": 15,
   "id": "2a4e4657",
   "metadata": {},
   "outputs": [
    {
     "name": "stdout",
     "output_type": "stream",
     "text": [
      "Can't accelerate\n"
     ]
    }
   ],
   "source": [
    "bwm.acceleration()"
   ]
  },
  {
   "cell_type": "code",
   "execution_count": null,
   "id": "ea077503",
   "metadata": {},
   "outputs": [],
   "source": []
  },
  {
   "cell_type": "markdown",
   "id": "aab9fba5",
   "metadata": {},
   "source": [
    "## MRO"
   ]
  },
  {
   "cell_type": "code",
   "execution_count": null,
   "id": "fd0a9fc3",
   "metadata": {},
   "outputs": [],
   "source": [
    "Car.__mro__"
   ]
  },
  {
   "cell_type": "code",
   "execution_count": null,
   "id": "fd6444d4",
   "metadata": {},
   "outputs": [],
   "source": []
  },
  {
   "cell_type": "markdown",
   "id": "03f26cad",
   "metadata": {},
   "source": [
    "#### Double underscores (Dunder)"
   ]
  },
  {
   "cell_type": "code",
   "execution_count": 55,
   "id": "29c5539d",
   "metadata": {},
   "outputs": [],
   "source": [
    "class Vehicle:\n",
    "#     top_speed\n",
    "    _top_speed = 0\n",
    "    __secret = 10\n",
    "    \n",
    "#     def enhancement(self):\n",
    "#         self.__top_speed += 150\n",
    "    def get_secret(self):\n",
    "        print(self.__secret)"
   ]
  },
  {
   "cell_type": "code",
   "execution_count": 56,
   "id": "5c88f9bd",
   "metadata": {},
   "outputs": [],
   "source": [
    "v = Vehicle()"
   ]
  },
  {
   "cell_type": "code",
   "execution_count": 57,
   "id": "51376df7",
   "metadata": {},
   "outputs": [
    {
     "data": {
      "text/plain": [
       "0"
      ]
     },
     "execution_count": 57,
     "metadata": {},
     "output_type": "execute_result"
    }
   ],
   "source": [
    "v._top_speed"
   ]
  },
  {
   "cell_type": "code",
   "execution_count": 58,
   "id": "b3225e6c",
   "metadata": {},
   "outputs": [
    {
     "ename": "AttributeError",
     "evalue": "'Vehicle' object has no attribute '__secret'",
     "output_type": "error",
     "traceback": [
      "\u001b[0;31m---------------------------------------------------------------------------\u001b[0m",
      "\u001b[0;31mAttributeError\u001b[0m                            Traceback (most recent call last)",
      "Input \u001b[0;32mIn [58]\u001b[0m, in \u001b[0;36m<cell line: 1>\u001b[0;34m()\u001b[0m\n\u001b[0;32m----> 1\u001b[0m \u001b[43mv\u001b[49m\u001b[38;5;241;43m.\u001b[39;49m\u001b[43m__secret\u001b[49m\n",
      "\u001b[0;31mAttributeError\u001b[0m: 'Vehicle' object has no attribute '__secret'"
     ]
    }
   ],
   "source": [
    "v.__secret"
   ]
  },
  {
   "cell_type": "code",
   "execution_count": 59,
   "id": "99dfbb98",
   "metadata": {},
   "outputs": [
    {
     "name": "stdout",
     "output_type": "stream",
     "text": [
      "10\n"
     ]
    }
   ],
   "source": [
    "v.get_secret()"
   ]
  },
  {
   "cell_type": "code",
   "execution_count": null,
   "id": "bdb1b74b",
   "metadata": {},
   "outputs": [],
   "source": [
    "####\n",
    "v.color = ov.color"
   ]
  },
  {
   "cell_type": "code",
   "execution_count": null,
   "id": "af5a5ae0",
   "metadata": {},
   "outputs": [],
   "source": [
    "v.__top_speed"
   ]
  },
  {
   "cell_type": "markdown",
   "id": "d0c5349d",
   "metadata": {},
   "source": [
    "### Keywords"
   ]
  },
  {
   "cell_type": "code",
   "execution_count": null,
   "id": "f7b54723",
   "metadata": {},
   "outputs": [],
   "source": [
    "import in else if True global yield return"
   ]
  },
  {
   "cell_type": "code",
   "execution_count": 63,
   "id": "b8befa9e",
   "metadata": {},
   "outputs": [
    {
     "data": {
      "text/plain": [
       "[1, 2, 3]"
      ]
     },
     "execution_count": 63,
     "metadata": {},
     "output_type": "execute_result"
    }
   ],
   "source": [
    "list((1,2,3))"
   ]
  },
  {
   "cell_type": "code",
   "execution_count": 64,
   "id": "8a1125b0",
   "metadata": {},
   "outputs": [],
   "source": [
    "list = [1234]"
   ]
  },
  {
   "cell_type": "code",
   "execution_count": 65,
   "id": "c0594723",
   "metadata": {},
   "outputs": [
    {
     "ename": "TypeError",
     "evalue": "'list' object is not callable",
     "output_type": "error",
     "traceback": [
      "\u001b[0;31m---------------------------------------------------------------------------\u001b[0m",
      "\u001b[0;31mTypeError\u001b[0m                                 Traceback (most recent call last)",
      "Input \u001b[0;32mIn [65]\u001b[0m, in \u001b[0;36m<cell line: 1>\u001b[0;34m()\u001b[0m\n\u001b[0;32m----> 1\u001b[0m \u001b[38;5;28;43mlist\u001b[39;49m\u001b[43m(\u001b[49m\u001b[43m(\u001b[49m\u001b[38;5;241;43m1\u001b[39;49m\u001b[43m,\u001b[49m\u001b[38;5;241;43m2\u001b[39;49m\u001b[43m,\u001b[49m\u001b[38;5;241;43m3\u001b[39;49m\u001b[43m)\u001b[49m\u001b[43m)\u001b[49m\n",
      "\u001b[0;31mTypeError\u001b[0m: 'list' object is not callable"
     ]
    }
   ],
   "source": [
    "list((1,2,3))"
   ]
  },
  {
   "cell_type": "code",
   "execution_count": 60,
   "id": "22a0d20c",
   "metadata": {},
   "outputs": [],
   "source": [
    "import keyword"
   ]
  },
  {
   "cell_type": "code",
   "execution_count": 61,
   "id": "89840077",
   "metadata": {},
   "outputs": [
    {
     "data": {
      "text/plain": [
       "['False',\n",
       " 'None',\n",
       " 'True',\n",
       " 'and',\n",
       " 'as',\n",
       " 'assert',\n",
       " 'async',\n",
       " 'await',\n",
       " 'break',\n",
       " 'class',\n",
       " 'continue',\n",
       " 'def',\n",
       " 'del',\n",
       " 'elif',\n",
       " 'else',\n",
       " 'except',\n",
       " 'finally',\n",
       " 'for',\n",
       " 'from',\n",
       " 'global',\n",
       " 'if',\n",
       " 'import',\n",
       " 'in',\n",
       " 'is',\n",
       " 'lambda',\n",
       " 'nonlocal',\n",
       " 'not',\n",
       " 'or',\n",
       " 'pass',\n",
       " 'raise',\n",
       " 'return',\n",
       " 'try',\n",
       " 'while',\n",
       " 'with',\n",
       " 'yield']"
      ]
     },
     "execution_count": 61,
     "metadata": {},
     "output_type": "execute_result"
    }
   ],
   "source": [
    "keyword.kwlist"
   ]
  },
  {
   "cell_type": "markdown",
   "id": "46c73bbf",
   "metadata": {},
   "source": [
    "### Indentifiers\n",
    "It is case-sensitive\n",
    "\n",
    "<br>It can start from \n",
    "- underscore or alphabet\n",
    "\n",
    "<br>And can contain\n",
    "- numbers"
   ]
  },
  {
   "cell_type": "code",
   "execution_count": 15,
   "id": "00aedd23",
   "metadata": {},
   "outputs": [],
   "source": [
    "variable = 10\n"
   ]
  },
  {
   "cell_type": "code",
   "execution_count": 3,
   "id": "b2e53813",
   "metadata": {},
   "outputs": [
    {
     "data": {
      "text/plain": [
       "10"
      ]
     },
     "execution_count": 3,
     "metadata": {},
     "output_type": "execute_result"
    }
   ],
   "source": [
    "variable"
   ]
  },
  {
   "cell_type": "code",
   "execution_count": 4,
   "id": "d47a030e",
   "metadata": {},
   "outputs": [
    {
     "ename": "SyntaxError",
     "evalue": "invalid syntax (2832298781.py, line 1)",
     "output_type": "error",
     "traceback": [
      "\u001b[0;36m  Input \u001b[0;32mIn [4]\u001b[0;36m\u001b[0m\n\u001b[0;31m    3dvariable = 13\u001b[0m\n\u001b[0m     ^\u001b[0m\n\u001b[0;31mSyntaxError\u001b[0m\u001b[0;31m:\u001b[0m invalid syntax\n"
     ]
    }
   ],
   "source": [
    "3dvariable = 13"
   ]
  },
  {
   "cell_type": "code",
   "execution_count": 5,
   "id": "fc38bba5",
   "metadata": {},
   "outputs": [],
   "source": [
    "variable3d = 13"
   ]
  },
  {
   "cell_type": "code",
   "execution_count": 6,
   "id": "3165fa26",
   "metadata": {},
   "outputs": [
    {
     "data": {
      "text/plain": [
       "13"
      ]
     },
     "execution_count": 6,
     "metadata": {},
     "output_type": "execute_result"
    }
   ],
   "source": [
    "variable3d"
   ]
  },
  {
   "cell_type": "code",
   "execution_count": 7,
   "id": "c66ebc16",
   "metadata": {},
   "outputs": [
    {
     "ename": "SyntaxError",
     "evalue": "invalid syntax (1419672511.py, line 1)",
     "output_type": "error",
     "traceback": [
      "\u001b[0;36m  Input \u001b[0;32mIn [7]\u001b[0;36m\u001b[0m\n\u001b[0;31m    $varibale = 15\u001b[0m\n\u001b[0m    ^\u001b[0m\n\u001b[0;31mSyntaxError\u001b[0m\u001b[0;31m:\u001b[0m invalid syntax\n"
     ]
    }
   ],
   "source": [
    "$varibale = 15"
   ]
  },
  {
   "cell_type": "code",
   "execution_count": 8,
   "id": "ba786a75",
   "metadata": {},
   "outputs": [
    {
     "ename": "SyntaxError",
     "evalue": "invalid syntax (2954197708.py, line 1)",
     "output_type": "error",
     "traceback": [
      "\u001b[0;36m  Input \u001b[0;32mIn [8]\u001b[0;36m\u001b[0m\n\u001b[0;31m    variable$ = 15\u001b[0m\n\u001b[0m            ^\u001b[0m\n\u001b[0;31mSyntaxError\u001b[0m\u001b[0;31m:\u001b[0m invalid syntax\n"
     ]
    }
   ],
   "source": [
    "variable$ = 15"
   ]
  },
  {
   "cell_type": "code",
   "execution_count": 9,
   "id": "08203525",
   "metadata": {},
   "outputs": [],
   "source": [
    "_variable = 17"
   ]
  },
  {
   "cell_type": "code",
   "execution_count": 10,
   "id": "6076ba39",
   "metadata": {},
   "outputs": [
    {
     "data": {
      "text/plain": [
       "17"
      ]
     },
     "execution_count": 10,
     "metadata": {},
     "output_type": "execute_result"
    }
   ],
   "source": [
    "_variable"
   ]
  },
  {
   "cell_type": "markdown",
   "id": "788ac630",
   "metadata": {},
   "source": [
    "#### Case sensitive for Identification"
   ]
  },
  {
   "cell_type": "code",
   "execution_count": 12,
   "id": "78130901",
   "metadata": {},
   "outputs": [],
   "source": [
    "Variable = 19\n",
    "variable = 21\n",
    "vAriable\n",
    "VAriable"
   ]
  },
  {
   "cell_type": "code",
   "execution_count": 13,
   "id": "dabdc3cb",
   "metadata": {},
   "outputs": [
    {
     "data": {
      "text/plain": [
       "19"
      ]
     },
     "execution_count": 13,
     "metadata": {},
     "output_type": "execute_result"
    }
   ],
   "source": [
    "Variable"
   ]
  },
  {
   "cell_type": "code",
   "execution_count": 14,
   "id": "5a7a476d",
   "metadata": {},
   "outputs": [
    {
     "data": {
      "text/plain": [
       "21"
      ]
     },
     "execution_count": 14,
     "metadata": {},
     "output_type": "execute_result"
    }
   ],
   "source": [
    "variable"
   ]
  },
  {
   "cell_type": "code",
   "execution_count": null,
   "id": "2409f378",
   "metadata": {},
   "outputs": [],
   "source": [
    "VariableObject\n",
    "\n",
    "variable_object"
   ]
  },
  {
   "cell_type": "markdown",
   "id": "128573e0",
   "metadata": {},
   "source": [
    "### Literals"
   ]
  },
  {
   "cell_type": "markdown",
   "id": "c5ecc940",
   "metadata": {},
   "source": [
    "#### Stings"
   ]
  },
  {
   "cell_type": "code",
   "execution_count": 16,
   "id": "ea2b3659",
   "metadata": {},
   "outputs": [
    {
     "data": {
      "text/plain": [
       "'Hello World'"
      ]
     },
     "execution_count": 16,
     "metadata": {},
     "output_type": "execute_result"
    }
   ],
   "source": [
    "\"Hello World\""
   ]
  },
  {
   "cell_type": "markdown",
   "id": "ee1ecae3",
   "metadata": {},
   "source": [
    "#### Integer"
   ]
  },
  {
   "cell_type": "code",
   "execution_count": 17,
   "id": "9637c0bd",
   "metadata": {},
   "outputs": [
    {
     "data": {
      "text/plain": [
       "7"
      ]
     },
     "execution_count": 17,
     "metadata": {},
     "output_type": "execute_result"
    }
   ],
   "source": [
    "7"
   ]
  },
  {
   "cell_type": "markdown",
   "id": "9d788e1c",
   "metadata": {},
   "source": [
    "#### Boolean"
   ]
  },
  {
   "cell_type": "code",
   "execution_count": 18,
   "id": "3c537d63",
   "metadata": {},
   "outputs": [
    {
     "data": {
      "text/plain": [
       "False"
      ]
     },
     "execution_count": 18,
     "metadata": {},
     "output_type": "execute_result"
    }
   ],
   "source": [
    "False"
   ]
  },
  {
   "cell_type": "markdown",
   "id": "016dd2c1",
   "metadata": {},
   "source": [
    "#### Special"
   ]
  },
  {
   "cell_type": "code",
   "execution_count": 26,
   "id": "48b3e60b",
   "metadata": {},
   "outputs": [],
   "source": [
    "def processing():\n",
    "    print(\"Something here\")\n",
    "    a = 10\n",
    "    b =15\n",
    "    c = a* b"
   ]
  },
  {
   "cell_type": "code",
   "execution_count": 27,
   "id": "6d9e7d7b",
   "metadata": {},
   "outputs": [
    {
     "name": "stdout",
     "output_type": "stream",
     "text": [
      "Something here\n"
     ]
    }
   ],
   "source": [
    "processing()"
   ]
  },
  {
   "cell_type": "code",
   "execution_count": 28,
   "id": "811b9ac6",
   "metadata": {},
   "outputs": [
    {
     "data": {
      "text/plain": [
       "int"
      ]
     },
     "execution_count": 28,
     "metadata": {},
     "output_type": "execute_result"
    }
   ],
   "source": [
    "type(x)"
   ]
  },
  {
   "cell_type": "code",
   "execution_count": 29,
   "id": "7186c71f",
   "metadata": {},
   "outputs": [
    {
     "data": {
      "text/plain": [
       "False"
      ]
     },
     "execution_count": 29,
     "metadata": {},
     "output_type": "execute_result"
    }
   ],
   "source": [
    "x is None"
   ]
  },
  {
   "cell_type": "code",
   "execution_count": 19,
   "id": "65f84e95",
   "metadata": {},
   "outputs": [],
   "source": [
    "None"
   ]
  },
  {
   "cell_type": "code",
   "execution_count": 20,
   "id": "5cf847c3",
   "metadata": {},
   "outputs": [
    {
     "name": "stdout",
     "output_type": "stream",
     "text": [
      "None\n"
     ]
    }
   ],
   "source": [
    "print(None)"
   ]
  },
  {
   "cell_type": "markdown",
   "id": "db45afe2",
   "metadata": {},
   "source": [
    "#### Collection"
   ]
  },
  {
   "cell_type": "code",
   "execution_count": null,
   "id": "ac97eea0",
   "metadata": {},
   "outputs": [],
   "source": [
    "set\n",
    "dict\n",
    "list\n"
   ]
  },
  {
   "cell_type": "code",
   "execution_count": 30,
   "id": "16884523",
   "metadata": {},
   "outputs": [],
   "source": [
    "x = None"
   ]
  },
  {
   "cell_type": "markdown",
   "id": "6267a635",
   "metadata": {},
   "source": [
    "## Comments"
   ]
  },
  {
   "cell_type": "code",
   "execution_count": null,
   "id": "32f05864",
   "metadata": {},
   "outputs": [],
   "source": [
    "# This is a comment"
   ]
  },
  {
   "cell_type": "code",
   "execution_count": null,
   "id": "a8b5639e",
   "metadata": {},
   "outputs": [],
   "source": []
  },
  {
   "cell_type": "markdown",
   "id": "d4d3f17a",
   "metadata": {},
   "source": [
    "## Identity"
   ]
  },
  {
   "cell_type": "code",
   "execution_count": 31,
   "id": "471daaab",
   "metadata": {},
   "outputs": [],
   "source": [
    "a = True"
   ]
  },
  {
   "cell_type": "code",
   "execution_count": 32,
   "id": "b4140206",
   "metadata": {},
   "outputs": [
    {
     "data": {
      "text/plain": [
       "True"
      ]
     },
     "execution_count": 32,
     "metadata": {},
     "output_type": "execute_result"
    }
   ],
   "source": [
    "a is True"
   ]
  },
  {
   "cell_type": "code",
   "execution_count": 33,
   "id": "3c46520a",
   "metadata": {},
   "outputs": [
    {
     "data": {
      "text/plain": [
       "9480544"
      ]
     },
     "execution_count": 33,
     "metadata": {},
     "output_type": "execute_result"
    }
   ],
   "source": [
    "id(a)"
   ]
  },
  {
   "cell_type": "code",
   "execution_count": 35,
   "id": "ade70c88",
   "metadata": {},
   "outputs": [
    {
     "data": {
      "text/plain": [
       "9480544"
      ]
     },
     "execution_count": 35,
     "metadata": {},
     "output_type": "execute_result"
    }
   ],
   "source": [
    "id(True)"
   ]
  },
  {
   "cell_type": "code",
   "execution_count": 36,
   "id": "3a7784ea",
   "metadata": {},
   "outputs": [
    {
     "name": "stderr",
     "output_type": "stream",
     "text": [
      "<>:1: SyntaxWarning: \"is\" with a literal. Did you mean \"==\"?\n",
      "<>:1: SyntaxWarning: \"is\" with a literal. Did you mean \"==\"?\n",
      "/tmp/ipykernel_96836/727138149.py:1: SyntaxWarning: \"is\" with a literal. Did you mean \"==\"?\n",
      "  (1,2,3) is (1,2,3)\n"
     ]
    },
    {
     "data": {
      "text/plain": [
       "True"
      ]
     },
     "execution_count": 36,
     "metadata": {},
     "output_type": "execute_result"
    }
   ],
   "source": [
    "(1,2,3) is (1,2,3)"
   ]
  },
  {
   "cell_type": "code",
   "execution_count": 37,
   "id": "19132c44",
   "metadata": {},
   "outputs": [
    {
     "data": {
      "text/plain": [
       "True"
      ]
     },
     "execution_count": 37,
     "metadata": {},
     "output_type": "execute_result"
    }
   ],
   "source": [
    "a is not False"
   ]
  },
  {
   "cell_type": "code",
   "execution_count": null,
   "id": "0725595e",
   "metadata": {},
   "outputs": [],
   "source": []
  },
  {
   "cell_type": "markdown",
   "id": "942716f5",
   "metadata": {},
   "source": [
    "## Membership"
   ]
  },
  {
   "cell_type": "code",
   "execution_count": 38,
   "id": "784a7609",
   "metadata": {},
   "outputs": [],
   "source": [
    "myList = [1,2,3,4]"
   ]
  },
  {
   "cell_type": "code",
   "execution_count": 39,
   "id": "22007759",
   "metadata": {},
   "outputs": [
    {
     "data": {
      "text/plain": [
       "True"
      ]
     },
     "execution_count": 39,
     "metadata": {},
     "output_type": "execute_result"
    }
   ],
   "source": [
    "4 in myList"
   ]
  },
  {
   "cell_type": "code",
   "execution_count": 40,
   "id": "6f151d36",
   "metadata": {},
   "outputs": [
    {
     "data": {
      "text/plain": [
       "False"
      ]
     },
     "execution_count": 40,
     "metadata": {},
     "output_type": "execute_result"
    }
   ],
   "source": [
    "5 in myList"
   ]
  },
  {
   "cell_type": "code",
   "execution_count": 41,
   "id": "24c17008",
   "metadata": {},
   "outputs": [
    {
     "data": {
      "text/plain": [
       "False"
      ]
     },
     "execution_count": 41,
     "metadata": {},
     "output_type": "execute_result"
    }
   ],
   "source": [
    "3 not in myList"
   ]
  },
  {
   "cell_type": "code",
   "execution_count": 42,
   "id": "790eed95",
   "metadata": {},
   "outputs": [
    {
     "data": {
      "text/plain": [
       "True"
      ]
     },
     "execution_count": 42,
     "metadata": {},
     "output_type": "execute_result"
    }
   ],
   "source": [
    "7 not in myList"
   ]
  },
  {
   "cell_type": "code",
   "execution_count": 43,
   "id": "dd8d05d6",
   "metadata": {},
   "outputs": [
    {
     "data": {
      "text/plain": [
       "list"
      ]
     },
     "execution_count": 43,
     "metadata": {},
     "output_type": "execute_result"
    }
   ],
   "source": [
    "type(myList)"
   ]
  },
  {
   "cell_type": "code",
   "execution_count": 46,
   "id": "bf546da7",
   "metadata": {},
   "outputs": [
    {
     "data": {
      "text/plain": [
       "False"
      ]
     },
     "execution_count": 46,
     "metadata": {},
     "output_type": "execute_result"
    }
   ],
   "source": [
    "7 and 1 not in myList"
   ]
  },
  {
   "cell_type": "code",
   "execution_count": 47,
   "id": "46bb257f",
   "metadata": {},
   "outputs": [
    {
     "data": {
      "text/plain": [
       "False"
      ]
     },
     "execution_count": 47,
     "metadata": {},
     "output_type": "execute_result"
    }
   ],
   "source": [
    "7 in myList and 1 in myList"
   ]
  },
  {
   "cell_type": "code",
   "execution_count": 48,
   "id": "20b49651",
   "metadata": {},
   "outputs": [
    {
     "data": {
      "text/plain": [
       "True"
      ]
     },
     "execution_count": 48,
     "metadata": {},
     "output_type": "execute_result"
    }
   ],
   "source": [
    "7 in myList or 1 in myList"
   ]
  },
  {
   "cell_type": "markdown",
   "id": "c2c8bb09",
   "metadata": {},
   "source": [
    "## Mutable & Immutable Objects"
   ]
  },
  {
   "cell_type": "markdown",
   "id": "52d56ab5",
   "metadata": {},
   "source": [
    "#### Mutable Object"
   ]
  },
  {
   "cell_type": "code",
   "execution_count": 58,
   "id": "a8b6a25a",
   "metadata": {},
   "outputs": [
    {
     "data": {
      "text/plain": [
       "140354908378752"
      ]
     },
     "execution_count": 58,
     "metadata": {},
     "output_type": "execute_result"
    }
   ],
   "source": [
    "mylist = [1,2,3,4,5]\n",
    "id(mylist)"
   ]
  },
  {
   "cell_type": "code",
   "execution_count": 59,
   "id": "8ee83b88",
   "metadata": {},
   "outputs": [],
   "source": [
    "mylist.append(10)"
   ]
  },
  {
   "cell_type": "code",
   "execution_count": 60,
   "id": "af3adcff",
   "metadata": {},
   "outputs": [
    {
     "data": {
      "text/plain": [
       "[1, 2, 3, 4, 5, 10]"
      ]
     },
     "metadata": {},
     "output_type": "display_data"
    },
    {
     "data": {
      "text/plain": [
       "140354908378752"
      ]
     },
     "execution_count": 60,
     "metadata": {},
     "output_type": "execute_result"
    }
   ],
   "source": [
    "display(mylist)\n",
    "id(mylist)"
   ]
  },
  {
   "cell_type": "markdown",
   "id": "f8398fe8",
   "metadata": {},
   "source": [
    "#### Immutable Object"
   ]
  },
  {
   "cell_type": "code",
   "execution_count": 62,
   "id": "718128ea",
   "metadata": {},
   "outputs": [
    {
     "data": {
      "text/plain": [
       "140354544428672"
      ]
     },
     "execution_count": 62,
     "metadata": {},
     "output_type": "execute_result"
    }
   ],
   "source": [
    "mytuple = (1,2,3,4,5)\n",
    "id(mytuple)"
   ]
  },
  {
   "cell_type": "code",
   "execution_count": 63,
   "id": "514df69e",
   "metadata": {},
   "outputs": [
    {
     "ename": "TypeError",
     "evalue": "'tuple' object does not support item assignment",
     "output_type": "error",
     "traceback": [
      "\u001b[0;31m---------------------------------------------------------------------------\u001b[0m",
      "\u001b[0;31mTypeError\u001b[0m                                 Traceback (most recent call last)",
      "Input \u001b[0;32mIn [63]\u001b[0m, in \u001b[0;36m<cell line: 1>\u001b[0;34m()\u001b[0m\n\u001b[0;32m----> 1\u001b[0m \u001b[43mmytuple\u001b[49m\u001b[43m[\u001b[49m\u001b[38;5;241;43m2\u001b[39;49m\u001b[43m]\u001b[49m \u001b[38;5;241m=\u001b[39m \u001b[38;5;241m15\u001b[39m\n",
      "\u001b[0;31mTypeError\u001b[0m: 'tuple' object does not support item assignment"
     ]
    }
   ],
   "source": [
    "mytuple[2] = 15\n",
    "# mytuple.append()"
   ]
  },
  {
   "cell_type": "code",
   "execution_count": 64,
   "id": "efc78481",
   "metadata": {},
   "outputs": [
    {
     "data": {
      "text/plain": [
       "140354544428672"
      ]
     },
     "execution_count": 64,
     "metadata": {},
     "output_type": "execute_result"
    }
   ],
   "source": [
    "id(mytuple)"
   ]
  },
  {
   "cell_type": "code",
   "execution_count": 65,
   "id": "57139a39",
   "metadata": {},
   "outputs": [
    {
     "data": {
      "text/plain": [
       "140354908373056"
      ]
     },
     "execution_count": 65,
     "metadata": {},
     "output_type": "execute_result"
    }
   ],
   "source": [
    "mytuple2 = (1,2,3,4,5,6)\n",
    "id(mytuple2)"
   ]
  },
  {
   "cell_type": "code",
   "execution_count": null,
   "id": "0cc27554",
   "metadata": {},
   "outputs": [],
   "source": []
  },
  {
   "cell_type": "code",
   "execution_count": 33,
   "id": "cca46606",
   "metadata": {},
   "outputs": [
    {
     "name": "stdout",
     "output_type": "stream",
     "text": [
      "(<class '__main__.C'>, <class '__main__.A'>, <class '__main__.B'>, <class 'object'>)\n",
      "[<class '__main__.C'>, <class '__main__.A'>, <class '__main__.B'>, <class 'object'>]\n"
     ]
    }
   ],
   "source": [
    "class A:\n",
    "    def age(self):\n",
    "        print(\"Age is 21\")\n",
    "class B:\n",
    "    def age(self):\n",
    "        print(\"Age is 23\")\n",
    "class C(A, B):\n",
    "    def age(self):\n",
    "        super(A, self).age()\n",
    "        print(f\"{type(super(A, self).age())}\")\n",
    "        print(f\"{type(super().age())}\")\n",
    "#         super(A, self).mro()\n",
    "     \n",
    "c = C()\n",
    "print(C.__mro__)\n",
    "print(C.mro())"
   ]
  },
  {
   "cell_type": "code",
   "execution_count": 34,
   "id": "02eca0b6",
   "metadata": {},
   "outputs": [
    {
     "name": "stdout",
     "output_type": "stream",
     "text": [
      "Age is 23\n",
      "Age is 23\n",
      "<class 'NoneType'>\n",
      "Age is 21\n",
      "<class 'NoneType'>\n"
     ]
    }
   ],
   "source": [
    "c.age()"
   ]
  },
  {
   "cell_type": "code",
   "execution_count": null,
   "id": "9705ac39",
   "metadata": {},
   "outputs": [],
   "source": []
  },
  {
   "cell_type": "code",
   "execution_count": null,
   "id": "7ea4d0ac",
   "metadata": {},
   "outputs": [],
   "source": []
  }
 ],
 "metadata": {
  "kernelspec": {
   "display_name": "Python 3 (ipykernel)",
   "language": "python",
   "name": "python3"
  },
  "language_info": {
   "codemirror_mode": {
    "name": "ipython",
    "version": 3
   },
   "file_extension": ".py",
   "mimetype": "text/x-python",
   "name": "python",
   "nbconvert_exporter": "python",
   "pygments_lexer": "ipython3",
   "version": "3.8.10"
  }
 },
 "nbformat": 4,
 "nbformat_minor": 5
}
